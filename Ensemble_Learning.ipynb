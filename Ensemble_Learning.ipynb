{
  "nbformat": 4,
  "nbformat_minor": 0,
  "metadata": {
    "colab": {
      "provenance": []
    },
    "kernelspec": {
      "name": "python3",
      "display_name": "Python 3"
    },
    "language_info": {
      "name": "python"
    }
  },
  "cells": [
    {
      "cell_type": "markdown",
      "source": [
        "##**Assignment Questions:**"
      ],
      "metadata": {
        "id": "olQiiiwr8OSv"
      }
    },
    {
      "cell_type": "markdown",
      "source": [
        "##**Theoretical:**"
      ],
      "metadata": {
        "id": "u9-X_SKV8j6P"
      }
    },
    {
      "cell_type": "markdown",
      "source": [
        "**1.Can we use Bagging for regression problems?**"
      ],
      "metadata": {
        "id": "1_7svLjR8sgY"
      }
    },
    {
      "cell_type": "markdown",
      "source": [
        "Ans: **Yes, Bagging can be used for regression problems.**\n",
        "\n",
        "**Bagging (Bootstrap Aggregating)** is an ensemble method that works for both **classification and regression**. For regression tasks, it combines the predictions of multiple base regressors (like Decision Trees) by **averaging** their outputs.\n",
        "\n",
        "**How it works for regression:**\n",
        "1. Multiple subsets of the original dataset are created using bootstrapping (random sampling with replacement).\n",
        "2. A base regression model (like a Decision Tree Regressor) is trained on each subset.\n",
        "3. For a new data point, predictions from all models are averaged to produce the final result.\n",
        "\n",
        "**Popular example:**  \n",
        "**Random Forest Regressor** is a bagging-based model specifically designed for regression and classification."
      ],
      "metadata": {
        "id": "i4OVoPlV8zWC"
      }
    },
    {
      "cell_type": "markdown",
      "source": [
        "**2.What is the difference between multiple model training and single model training?**"
      ],
      "metadata": {
        "id": "D3lfT05q9SG9"
      }
    },
    {
      "cell_type": "markdown",
      "source": [
        "Ans: **Difference Between Single Model and Multiple Model Training**\n",
        "\n",
        "1. Single model training uses one algorithm to build a predictive model.  \n",
        "2. It is simple, fast, and easy to interpret.  \n",
        "3. It requires less memory and processing power.  \n",
        "4. However, it may not capture complex patterns in data.  \n",
        "5. It is more prone to overfitting or underfitting.\n",
        "\n",
        "6. Multiple model training combines predictions from several models.  \n",
        "7. It includes techniques like bagging, boosting, and stacking.  \n",
        "8. It improves accuracy and robustness.  \n",
        "9. It requires more time and computational resources.  \n",
        "10. Though complex, it often delivers better performance on real-world data."
      ],
      "metadata": {
        "id": "2RL0SrOc9Vhz"
      }
    },
    {
      "cell_type": "markdown",
      "source": [
        "**3. Explain the concept of feature randomness in Random Forest.**"
      ],
      "metadata": {
        "id": "96mATGYn90j5"
      }
    },
    {
      "cell_type": "markdown",
      "source": [
        "Ans: **Feature Randomness in Random Forest:**\n",
        "\n",
        "In Random Forest, **feature randomness** means that at each split in a decision tree, the algorithm selects a **random subset of features** instead of considering all features.\n",
        "\n",
        "This randomness helps in two key ways:\n",
        "1. **Reduces correlation** between individual trees.\n",
        "2. **Increases model diversity**, leading to better generalization.\n",
        "\n",
        "So, while building each tree:\n",
        "- A **random sample of data** is chosen (bootstrap).\n",
        "- At each **split**, only a **random subset of features** is considered.\n",
        "\n",
        "This prevents all trees from learning the same patterns and helps reduce overfitting."
      ],
      "metadata": {
        "id": "UVBN2BKu94VU"
      }
    },
    {
      "cell_type": "markdown",
      "source": [
        "**4.What is OOB (Out-of-Bag) Score?**"
      ],
      "metadata": {
        "id": "VFO_dXt2-AWz"
      }
    },
    {
      "cell_type": "markdown",
      "source": [
        "Ans: **OOB (Out-of-Bag) Score** is a performance metric used in **Random Forest** to evaluate model accuracy **without needing a separate validation set**.\n",
        "\n",
        "Here's how it works:\n",
        "1. Random Forest uses **bootstrap sampling** (sampling with replacement) to train each tree.\n",
        "2. About **one-third of the data** is **not used** in each tree’s training — this is called the **Out-of-Bag (OOB) data**.\n",
        "3. The OOB data is then used to **test that tree's performance**.\n",
        "4. The **OOB score** is the **average prediction accuracy** across all trees on their respective OOB data.\n",
        "\n",
        "It gives an **unbiased estimate** of model performance, similar to cross-validation."
      ],
      "metadata": {
        "id": "NEpCi3qY-ErH"
      }
    },
    {
      "cell_type": "markdown",
      "source": [
        "**5.How can you measure the importance of features in a Random Forest model?**"
      ],
      "metadata": {
        "id": "4T_QfGVa-M60"
      }
    },
    {
      "cell_type": "markdown",
      "source": [
        "Ans: **Measuring Feature Importance in Random Forest:**\n",
        "\n",
        "1. **Gini Importance (Mean Decrease in Impurity):**  \n",
        "   - For each feature, measure how much it **reduces impurity** (e.g., Gini or MSE) across all trees and nodes.  \n",
        "   - Higher total reduction = more important feature.\n",
        "\n",
        "2. **Permutation Importance:**  \n",
        "   - Randomly **shuffle the values** of a feature and observe the drop in model performance.  \n",
        "   - Bigger drop = more important feature.\n",
        "\n",
        "Both methods are supported in libraries like **scikit-learn** using feature importance (Gini) or permutation importance function."
      ],
      "metadata": {
        "id": "WxNKj9d1-VxO"
      }
    },
    {
      "cell_type": "markdown",
      "source": [
        "**6.Explain the working principle of a Bagging Classifier.**"
      ],
      "metadata": {
        "id": "-xUTe-pZ-g72"
      }
    },
    {
      "cell_type": "markdown",
      "source": [
        "Ans: **Working Principle of a Bagging Classifier:**\n",
        "\n",
        "1. **Bootstrap Sampling:** Randomly generate multiple subsets of the training data using sampling with replacement.\n",
        "\n",
        "2. **Model Training:** Train a **separate base classifier** (like decision trees) on each subset.\n",
        "\n",
        "3. **Independent Learning:** Each model learns patterns independently from its sample.\n",
        "\n",
        "4. **Prediction Aggregation:**  \n",
        "   - For classification: combine predictions using **majority voting**.  \n",
        "   - For regression: use **average** of predictions.\n",
        "\n",
        "5. **Final Output:** The combined result is more **stable, accurate, and less prone to overfitting** than individual models.\n",
        "\n",
        "Bagging reduces variance and improves generalization by leveraging multiple weak learners."
      ],
      "metadata": {
        "id": "iqKb1tB2-kpe"
      }
    },
    {
      "cell_type": "markdown",
      "source": [
        "**7.How do you evaluate a Bagging Classifier’s performance.**"
      ],
      "metadata": {
        "id": "HZ6hyXyF-rKl"
      }
    },
    {
      "cell_type": "markdown",
      "source": [
        "Ans: **Evaluating a Bagging Classifier’s Performance:**\n",
        "\n",
        "1. **Accuracy:**  \n",
        "   Measure the proportion of correctly predicted labels out of all predictions.\n",
        "\n",
        "2. **Confusion Matrix:**  \n",
        "   Assess the classifier's performance with true positives, false positives, true negatives, and false negatives. This helps evaluate **precision, recall, and F1-score**.\n",
        "\n",
        "3. **Cross-Validation:**  \n",
        "   Use **k-fold cross-validation** to evaluate the model’s performance on different subsets of the data to ensure robustness and prevent overfitting.\n",
        "\n",
        "4. **ROC-AUC:**  \n",
        "   For binary classification, plot the **Receiver Operating Characteristic (ROC) curve** and calculate the **AUC** to evaluate the classifier's ability to distinguish between classes.\n",
        "\n",
        "5. **Out-of-Bag (OOB) Score:**  \n",
        "   Use the **OOB score** as a built-in performance metric. It’s calculated from the data not used in each bootstrap sample, providing an unbiased estimate of model accuracy.\n",
        "\n",
        "These methods provide insights into the classifier's ability to generalize and handle different data distributions."
      ],
      "metadata": {
        "id": "Uqo1C40b-3aP"
      }
    },
    {
      "cell_type": "markdown",
      "source": [
        "**8.How does a Bagging Regressor work?**"
      ],
      "metadata": {
        "id": "Ziml3pxi-9HW"
      }
    },
    {
      "cell_type": "markdown",
      "source": [
        "Ans: **How a Bagging Regressor Works:**\n",
        "\n",
        "1. **Bootstrap Sampling:**  \n",
        "   - Create multiple bootstrapped subsets of the data (sampling with replacement).\n",
        "\n",
        "2. **Model Training:**  \n",
        "   - Train a separate regression model (e.g., decision tree) on each subset.\n",
        "\n",
        "3. **Independent Learning:**  \n",
        "   - Each model learns independently from its own subset of data.\n",
        "\n",
        "4. **Prediction Aggregation:**  \n",
        "   - For a new data point, combine the predictions from all models by **averaging**.\n",
        "\n",
        "5. **Variance Reduction:**  \n",
        "   - Averaging reduces the variance and makes the model more stable.\n",
        "\n",
        "6. **Improved Generalization:**  \n",
        "   - The approach helps avoid overfitting and enhances accuracy on unseen data."
      ],
      "metadata": {
        "id": "L_epfK41_Atr"
      }
    },
    {
      "cell_type": "markdown",
      "source": [
        "**9.What is the main advantage of ensemble techniques.**"
      ],
      "metadata": {
        "id": "KfPkaYS4_Oqp"
      }
    },
    {
      "cell_type": "markdown",
      "source": [
        "Ans:The main advantage of **ensemble techniques** is that they combine multiple models to improve overall performance, leading to:\n",
        "\n",
        "1. **Better Accuracy:**  \n",
        "   Combining multiple models helps reduce errors, leading to more accurate predictions than individual models.\n",
        "\n",
        "2. **Reduced Overfitting:**  \n",
        "   Ensemble methods, like Bagging, reduce variance and overfitting by averaging predictions or using majority voting.\n",
        "\n",
        "3. **Increased Robustness:**  \n",
        "   By using diverse models, ensembles are less sensitive to noisy data and outliers."
      ],
      "metadata": {
        "id": "dVXNjQRB_T_N"
      }
    },
    {
      "cell_type": "markdown",
      "source": [
        "**10.What is the main challenge of ensemble methods?**"
      ],
      "metadata": {
        "id": "BShKavsX_bYt"
      }
    },
    {
      "cell_type": "markdown",
      "source": [
        "Ans: **Challenges of Ensemble Methods:**\n",
        "\n",
        "1. **Increased Computational Complexity:**  \n",
        "   - Requires more resources and time to train multiple models.\n",
        "\n",
        "2. **Reduced Interpretability:**  \n",
        "   - Harder to understand and explain the decision-making process.\n",
        "\n",
        "3. **Risk of Overfitting:**  \n",
        "   - Some methods, like boosting, can overfit if not properly tuned.\n",
        "\n",
        "4. **Model Selection Difficulty:**  \n",
        "   - Choosing the right base model and number of models can be challenging."
      ],
      "metadata": {
        "id": "HTKGcdK9_fic"
      }
    },
    {
      "cell_type": "markdown",
      "source": [
        "**11.Explain the key idea behind ensemble techniques.**"
      ],
      "metadata": {
        "id": "Y3pSmx0y_n9y"
      }
    },
    {
      "cell_type": "markdown",
      "source": [
        "Ans: **Key Idea Behind Ensemble Techniques:**\n",
        "\n",
        "1. Combine multiple models to improve performance.\n",
        "2. Reduce bias (boosting) or variance (bagging).\n",
        "3. Leverage diversity of models for better predictions.\n",
        "4. Typically leads to higher accuracy and stability."
      ],
      "metadata": {
        "id": "ysHvzAEj_s1c"
      }
    },
    {
      "cell_type": "markdown",
      "source": [
        "**12.What is a Random Forest Classifier?**"
      ],
      "metadata": {
        "id": "oAP5iZ7n_3uN"
      }
    },
    {
      "cell_type": "markdown",
      "source": [
        "Ans: **Random Forest Classifier:**\n",
        "\n",
        "1. Ensemble method using multiple decision trees.\n",
        "2. Each tree is trained on a random subset of data.\n",
        "3. Random feature selection at each split.\n",
        "4. Predictions are made by majority voting.\n",
        "5. Reduces overfitting compared to a single tree.\n",
        "6. Robust and accurate model for classification tasks."
      ],
      "metadata": {
        "id": "LbdOBlc7_-l1"
      }
    },
    {
      "cell_type": "markdown",
      "source": [
        "**13.What are the main types of ensemble techniques?**"
      ],
      "metadata": {
        "id": "StUxSerGALW7"
      }
    },
    {
      "cell_type": "markdown",
      "source": [
        "Ans: **Main Types of Ensemble Techniques:**\n",
        "\n",
        "1. **Bagging (Bootstrap Aggregating):**  \n",
        "   - Trains multiple models on bootstrapped subsets and averages the predictions.\n",
        "\n",
        "2. **Boosting:**  \n",
        "   - Trains models sequentially, with each model focusing on the errors of the previous one.\n",
        "\n",
        "3. **Stacking:**  \n",
        "   - Combines predictions from multiple models using a meta-model to make the final prediction.  \n",
        "\n",
        "4. **Voting:**  \n",
        "   - Combines predictions from different models using majority voting (classification) or averaging (regression)."
      ],
      "metadata": {
        "id": "4qlH-si4AP71"
      }
    },
    {
      "cell_type": "markdown",
      "source": [
        "**14.What is ensemble learning in machine learning?**"
      ],
      "metadata": {
        "id": "Sk9qrAv9AVE3"
      }
    },
    {
      "cell_type": "markdown",
      "source": [
        "Ans: **Ensemble Learning in Machine Learning:**\n",
        "\n",
        "1. Combines multiple models to improve performance.\n",
        "2. Reduces errors by leveraging the strengths of different models.\n",
        "3. Can improve accuracy, robustness, and generalization.\n",
        "4. Common techniques: Bagging, Boosting, Stacking, and Voting.\n",
        "5. Often reduces overfitting or bias compared to a single model."
      ],
      "metadata": {
        "id": "KPiJiBooAYWZ"
      }
    },
    {
      "cell_type": "markdown",
      "source": [
        "**15.When should we avoid using ensemble methods?**"
      ],
      "metadata": {
        "id": "x3sKrL7BAcjp"
      }
    },
    {
      "cell_type": "markdown",
      "source": [
        "Ans: **When to Avoid Using Ensemble Methods:**\n",
        "\n",
        "1. **High Computational Cost:**  \n",
        "   - When resources are limited, as ensemble methods require more time and memory.\n",
        "\n",
        "2. **Interpretability Needed:**  \n",
        "   - If the model needs to be easily interpretable, ensemble methods may be too complex.\n",
        "\n",
        "3. **Simple Problem:**  \n",
        "   - When a simpler model (e.g., linear regression or decision tree) suffices for the task.\n",
        "\n",
        "4. **Small Datasets:**  \n",
        "   - With small datasets, ensemble methods might not provide significant improvement and could overfit.\n",
        "\n",
        "5. **Real-Time Applications:**  \n",
        "   - In applications requiring quick predictions, ensemble methods may be too slow due to their complexity."
      ],
      "metadata": {
        "id": "1Q89rFCKAiSW"
      }
    },
    {
      "cell_type": "markdown",
      "source": [
        "**16.How does Bagging help in reducing overfitting?**"
      ],
      "metadata": {
        "id": "wrrmUWqtAtet"
      }
    },
    {
      "cell_type": "markdown",
      "source": [
        "Ans: **How Bagging Reduces Overfitting:**\n",
        "\n",
        "1. Trains multiple models on bootstrapped data subsets.\n",
        "2. Combines predictions (averaging/voting) to reduce errors.\n",
        "3. Reduces model variance by using diverse data samples.\n",
        "4. Increases robustness, making the model less sensitive to noise."
      ],
      "metadata": {
        "id": "nZ2qYw9SAw--"
      }
    },
    {
      "cell_type": "markdown",
      "source": [
        "**17.Why is Random Forest better than a single Decision Tree?**"
      ],
      "metadata": {
        "id": "RkO_UMoZA34g"
      }
    },
    {
      "cell_type": "markdown",
      "source": [
        "Ans: **Why Random Forest is Better Than a Single Decision Tree:**\n",
        "\n",
        "1. **Reduced Overfitting:**  \n",
        "   - Random Forest averages multiple trees, reducing overfitting compared to a single decision tree.\n",
        "\n",
        "2. **Increased Accuracy:**  \n",
        "   - Combines predictions from many trees, leading to better generalization and higher accuracy.\n",
        "\n",
        "3. **More Robust:**  \n",
        "   - Less sensitive to noise and outliers in the data.\n",
        "\n",
        "4. **Feature Randomness:**  \n",
        "   - Uses random feature selection, which helps avoid overfitting and creates more diverse models.\n",
        "\n",
        "5. **Handles Complexity:**  \n",
        "   - Performs better on complex data patterns compared to a single decision tree."
      ],
      "metadata": {
        "id": "E8OTFQInA7iE"
      }
    },
    {
      "cell_type": "markdown",
      "source": [
        "**18.What is the role of bootstrap sampling in Bagging?**"
      ],
      "metadata": {
        "id": "gGEKgkb9BAft"
      }
    },
    {
      "cell_type": "markdown",
      "source": [
        "Ans: **Role of Bootstrap Sampling in Bagging:**\n",
        "\n",
        "1. **Data Subsets Creation:**  \n",
        "   - Bootstrap sampling creates multiple subsets of the data by **sampling with replacement**.\n",
        "\n",
        "2. **Model Training:**  \n",
        "   - Each model is trained on a different bootstrap sample, which introduces diversity in the models.\n",
        "\n",
        "3. **Reduces Overfitting:**  \n",
        "   - By training on different data subsets, the models are less likely to overfit to any specific portion of the data.\n",
        "\n",
        "4. **Improves Generalization:**  \n",
        "   - Combining models trained on different subsets leads to better generalization and reduces variance in predictions."
      ],
      "metadata": {
        "id": "JecGeOF-BEJR"
      }
    },
    {
      "cell_type": "markdown",
      "source": [
        "**19.What are some real-world applications of ensemble techniques?**"
      ],
      "metadata": {
        "id": "ZpZ0Hz3VBQ25"
      }
    },
    {
      "cell_type": "markdown",
      "source": [
        "Ans: **Real-World Applications of Ensemble Techniques:**\n",
        "\n",
        "1. **Finance:**  \n",
        "   - Credit scoring, fraud detection.\n",
        "\n",
        "2. **Healthcare:**  \n",
        "   - Disease diagnosis, medical image analysis.\n",
        "\n",
        "3. **Marketing:**  \n",
        "   - Customer segmentation, recommendation systems.\n",
        "\n",
        "4. **Retail:**  \n",
        "   - Sales forecasting, inventory management.\n",
        "\n",
        "5. **NLP:**  \n",
        "   - Sentiment analysis, spam detection.\n",
        "\n",
        "6. **Autonomous Vehicles:**  \n",
        "   - Object detection, path planning."
      ],
      "metadata": {
        "id": "IvV2IFXGBWSx"
      }
    },
    {
      "cell_type": "markdown",
      "source": [
        "**20.What is the difference between Bagging and Boosting?**"
      ],
      "metadata": {
        "id": "Y4PW7bK8BefB"
      }
    },
    {
      "cell_type": "markdown",
      "source": [
        "Ans: **Difference Between Bagging and Boosting:**\n",
        "\n",
        "1. **Model Training:**  \n",
        "   - **Bagging:** Trains models **independently** on bootstrapped data subsets.  \n",
        "   - **Boosting:** Trains models **sequentially**, where each model corrects errors of the previous one.\n",
        "\n",
        "2. **Data Sampling:**  \n",
        "   - **Bagging:** Uses random samples with replacement (bootstrap).  \n",
        "   - **Boosting:** Uses all data, adjusting weights to focus on misclassified data.\n",
        "\n",
        "3. **Prediction Aggregation:**  \n",
        "   - **Bagging:** Combines predictions by **voting (classification)** or **averaging (regression)**.  \n",
        "   - **Boosting:** Combines predictions by **weighted averaging** of sequential models.\n",
        "\n",
        "4. **Parallel vs Sequential:**  \n",
        "   - **Bagging:** Can train models in **parallel**.  \n",
        "   - **Boosting:** Models are trained **sequentially**.\n",
        "\n",
        "5. **Overfitting:**  \n",
        "   - **Bagging:** Reduces variance, less prone to overfitting.  \n",
        "   - **Boosting:** Reduces bias but can overfit if not tuned properly."
      ],
      "metadata": {
        "id": "7oVw1yKFBjEJ"
      }
    },
    {
      "cell_type": "markdown",
      "source": [
        "##**Practical:**"
      ],
      "metadata": {
        "id": "iOuZZh88Bpd9"
      }
    },
    {
      "cell_type": "markdown",
      "source": [
        "**21.Train a Bagging Classifier using Decision Trees on a sample dataset and print model accuracy.**"
      ],
      "metadata": {
        "id": "WDkmDI4eBvnH"
      }
    },
    {
      "cell_type": "code",
      "source": [
        "from sklearn.datasets import load_iris\n",
        "from sklearn.model_selection import train_test_split\n",
        "from sklearn.ensemble import BaggingClassifier\n",
        "from sklearn.tree import DecisionTreeClassifier\n",
        "from sklearn.metrics import accuracy_score\n",
        "\n",
        "# Load a sample dataset\n",
        "data = load_iris()\n",
        "X = data.data\n",
        "y = data.target\n",
        "\n",
        "# Split the dataset into training and testing sets\n",
        "X_train, X_test, y_train, y_test = train_test_split(X, y, test_size=0.3, random_state=42)\n",
        "\n",
        "# Initialize a Decision Tree Classifier\n",
        "dt_classifier = DecisionTreeClassifier()\n",
        "\n",
        "# Train a Bagging Classifier with Decision Trees as base estimators\n",
        "bagging_classifier = BaggingClassifier(estimator=dt_classifier, n_estimators=50, random_state=42)\n",
        "bagging_classifier.fit(X_train, y_train)\n",
        "\n",
        "# Make predictions on the test set\n",
        "y_pred = bagging_classifier.predict(X_test)\n",
        "\n",
        "# Calculate and print the accuracy\n",
        "accuracy = accuracy_score(y_test, y_pred)\n",
        "print(\"Model Accuracy:\", accuracy)\n"
      ],
      "metadata": {
        "colab": {
          "base_uri": "https://localhost:8080/"
        },
        "id": "x03cuYtHCNPk",
        "outputId": "1d10b451-df51-4e01-b624-ff3da502e517"
      },
      "execution_count": null,
      "outputs": [
        {
          "output_type": "stream",
          "name": "stdout",
          "text": [
            "Model Accuracy: 1.0\n"
          ]
        }
      ]
    },
    {
      "cell_type": "markdown",
      "source": [
        "**22.Train a Bagging Regressor using Decision Trees and evaluate using Mean Squared Error (MSE).**"
      ],
      "metadata": {
        "id": "O7VoK6iWCPMJ"
      }
    },
    {
      "cell_type": "code",
      "source": [
        "from sklearn.datasets import fetch_california_housing\n",
        "from sklearn.model_selection import train_test_split\n",
        "from sklearn.ensemble import BaggingRegressor\n",
        "from sklearn.tree import DecisionTreeRegressor\n",
        "from sklearn.metrics import mean_squared_error\n",
        "\n",
        "# Load the California housing dataset (regression problem)\n",
        "data = fetch_california_housing()\n",
        "X = data.data\n",
        "y = data.target\n",
        "\n",
        "# Split the dataset into training and testing sets\n",
        "X_train, X_test, y_train, y_test = train_test_split(X, y, test_size=0.3, random_state=42)\n",
        "\n",
        "# Initialize a Decision Tree Regressor\n",
        "dt_regressor = DecisionTreeRegressor()\n",
        "\n",
        "# Train a Bagging Regressor with Decision Trees as base estimators\n",
        "bagging_regressor = BaggingRegressor(estimator=dt_regressor, n_estimators=50, random_state=42)\n",
        "bagging_regressor.fit(X_train, y_train)\n",
        "\n",
        "# Make predictions on the test set\n",
        "y_pred = bagging_regressor.predict(X_test)\n",
        "\n",
        "# Calculate and print the Mean Squared Error (MSE)\n",
        "mse = mean_squared_error(y_test, y_pred)\n",
        "print(\"Mean Squared Error (MSE):\", mse)\n"
      ],
      "metadata": {
        "colab": {
          "base_uri": "https://localhost:8080/"
        },
        "id": "noL-8AKKCwn1",
        "outputId": "61726043-873c-4570-9f2b-1dc8835ec4e7"
      },
      "execution_count": null,
      "outputs": [
        {
          "output_type": "stream",
          "name": "stdout",
          "text": [
            "Mean Squared Error (MSE): 0.25787382250585034\n"
          ]
        }
      ]
    },
    {
      "cell_type": "markdown",
      "source": [
        "**23.Train a Random Forest Classifier on the Breast Cancer dataset and print feature importance scores.**"
      ],
      "metadata": {
        "id": "hZmsPIleC1LI"
      }
    },
    {
      "cell_type": "code",
      "source": [
        "from sklearn.datasets import load_breast_cancer\n",
        "from sklearn.ensemble import RandomForestClassifier\n",
        "\n",
        "# Load the Breast Cancer dataset\n",
        "data = load_breast_cancer()\n",
        "X = data.data\n",
        "y = data.target\n",
        "\n",
        "# Initialize a Random Forest Classifier\n",
        "rf_classifier = RandomForestClassifier(random_state=42)\n",
        "\n",
        "# Train the model\n",
        "rf_classifier.fit(X, y)\n",
        "\n",
        "# Get the feature importance scores\n",
        "feature_importance = rf_classifier.feature_importances_\n",
        "\n",
        "# Print the feature importance scores\n",
        "for feature, importance in zip(data.feature_names, feature_importance):\n",
        "    print(f\"{feature}: {importance}\")\n"
      ],
      "metadata": {
        "colab": {
          "base_uri": "https://localhost:8080/"
        },
        "id": "O36NP1xUC5BM",
        "outputId": "d79a85ec-3f78-4def-82c1-f6ed3f9c3b7b"
      },
      "execution_count": null,
      "outputs": [
        {
          "output_type": "stream",
          "name": "stdout",
          "text": [
            "mean radius: 0.034843233980943286\n",
            "mean texture: 0.015225145712914773\n",
            "mean perimeter: 0.06799034063826767\n",
            "mean area: 0.0604616365111208\n",
            "mean smoothness: 0.0079584528113981\n",
            "mean compactness: 0.0115970382551153\n",
            "mean concavity: 0.06691736463414073\n",
            "mean concave points: 0.10704565721708294\n",
            "mean symmetry: 0.0034227883667066654\n",
            "mean fractal dimension: 0.002615076161734035\n",
            "radius error: 0.014263704023561991\n",
            "texture error: 0.003744265527721131\n",
            "perimeter error: 0.010085060356218195\n",
            "area error: 0.029552828963121246\n",
            "smoothness error: 0.0047215698751171715\n",
            "compactness error: 0.0056118342607874684\n",
            "concavity error: 0.005819693803295157\n",
            "concave points error: 0.0037597476696419278\n",
            "symmetry error: 0.003545970882211007\n",
            "fractal dimension error: 0.005942332118800315\n",
            "worst radius: 0.08284828183729644\n",
            "worst texture: 0.017485260960677165\n",
            "worst perimeter: 0.08084969717184524\n",
            "worst area: 0.13935694286788813\n",
            "worst smoothness: 0.012232023199117627\n",
            "worst compactness: 0.01986385650955019\n",
            "worst concavity: 0.03733871230020869\n",
            "worst concave points: 0.13222508566399135\n",
            "worst symmetry: 0.008179084261284875\n",
            "worst fractal dimension: 0.004497313458240299\n"
          ]
        }
      ]
    },
    {
      "cell_type": "markdown",
      "source": [
        "**24.Train a Random Forest Regressor and compare its performance with a single Decision Tree.**"
      ],
      "metadata": {
        "id": "3FQJkSMhDPAx"
      }
    },
    {
      "cell_type": "code",
      "source": [
        "from sklearn.ensemble import RandomForestRegressor\n",
        "from sklearn.tree import DecisionTreeRegressor\n",
        "from sklearn.datasets import fetch_california_housing\n",
        "from sklearn.model_selection import train_test_split\n",
        "from sklearn.metrics import mean_squared_error\n",
        "\n",
        "# Load the California housing dataset (regression problem)\n",
        "data = fetch_california_housing()\n",
        "X = data.data\n",
        "y = data.target\n",
        "\n",
        "# Split the dataset into training and testing sets\n",
        "X_train, X_test, y_train, y_test = train_test_split(X, y, test_size=0.3, random_state=42)\n",
        "\n",
        "# Initialize a Decision Tree Regressor\n",
        "dt_regressor = DecisionTreeRegressor(random_state=42)\n",
        "\n",
        "# Initialize a Random Forest Regressor\n",
        "rf_regressor = RandomForestRegressor(n_estimators=50, random_state=42)\n",
        "\n",
        "# Train the Decision Tree Regressor\n",
        "dt_regressor.fit(X_train, y_train)\n",
        "y_pred_dt = dt_regressor.predict(X_test)\n",
        "\n",
        "# Train the Random Forest Regressor\n",
        "rf_regressor.fit(X_train, y_train)\n",
        "y_pred_rf = rf_regressor.predict(X_test)\n",
        "\n",
        "# Calculate the Mean Squared Error (MSE) for both models\n",
        "mse_dt = mean_squared_error(y_test, y_pred_dt)\n",
        "mse_rf = mean_squared_error(y_test, y_pred_rf)\n",
        "\n",
        "print(f\"Decision Tree MSE: {mse_dt}\")\n",
        "print(f\"Random Forest MSE: {mse_rf}\")\n"
      ],
      "metadata": {
        "colab": {
          "base_uri": "https://localhost:8080/"
        },
        "id": "f49Bd7UtDS-m",
        "outputId": "3a5aea30-591f-4bd0-89cd-6eac5c7d8fdd"
      },
      "execution_count": null,
      "outputs": [
        {
          "output_type": "stream",
          "name": "stdout",
          "text": [
            "Decision Tree MSE: 0.5280096503174904\n",
            "Random Forest MSE: 0.25772464361712627\n"
          ]
        }
      ]
    },
    {
      "cell_type": "markdown",
      "source": [
        "**25.Compute the Out-of-Bag (OOB) Score for a Random Forest Classifier.**"
      ],
      "metadata": {
        "id": "Wio0Hm40DeZ2"
      }
    },
    {
      "cell_type": "code",
      "source": [
        "from sklearn.ensemble import RandomForestClassifier\n",
        "from sklearn.datasets import load_breast_cancer\n",
        "from sklearn.model_selection import train_test_split\n",
        "\n",
        "# Load the Breast Cancer dataset\n",
        "data = load_breast_cancer()\n",
        "X = data.data\n",
        "y = data.target\n",
        "\n",
        "# Split the dataset into training and testing sets\n",
        "X_train, X_test, y_train, y_test = train_test_split(X, y, test_size=0.3, random_state=42)\n",
        "\n",
        "# Initialize a Random Forest Classifier with OOB score enabled\n",
        "rf_classifier = RandomForestClassifier(n_estimators=100, random_state=42, oob_score=True)\n",
        "\n",
        "# Train the model\n",
        "rf_classifier.fit(X_train, y_train)\n",
        "\n",
        "# Get the OOB score\n",
        "oob_score = rf_classifier.oob_score_\n",
        "\n",
        "print(f\"Out-of-Bag (OOB) score: {oob_score}\")\n"
      ],
      "metadata": {
        "colab": {
          "base_uri": "https://localhost:8080/"
        },
        "id": "V3ToKhTlDi92",
        "outputId": "062e5f89-5dcf-4222-a0f4-7a4d0a893298"
      },
      "execution_count": null,
      "outputs": [
        {
          "output_type": "stream",
          "name": "stdout",
          "text": [
            "Out-of-Bag (OOB) score: 0.9547738693467337\n"
          ]
        }
      ]
    },
    {
      "cell_type": "markdown",
      "source": [
        "**26.Train a Bagging Classifier using SVM as a base estimator and print accuracy.**"
      ],
      "metadata": {
        "id": "hTQBfgItDqOf"
      }
    },
    {
      "cell_type": "code",
      "source": [
        "from sklearn.svm import SVC\n",
        "from sklearn.ensemble import BaggingClassifier\n",
        "from sklearn.datasets import load_iris\n",
        "from sklearn.model_selection import train_test_split\n",
        "from sklearn.metrics import accuracy_score\n",
        "\n",
        "# Load the Iris dataset\n",
        "data = load_iris()\n",
        "X = data.data\n",
        "y = data.target\n",
        "\n",
        "# Split the dataset into training and testing sets\n",
        "X_train, X_test, y_train, y_test = train_test_split(X, y, test_size=0.3, random_state=42)\n",
        "\n",
        "# Initialize a Support Vector Machine (SVM) classifier\n",
        "svm_classifier = SVC()\n",
        "\n",
        "# Initialize a Bagging Classifier with SVM as base estimator\n",
        "bagging_classifier = BaggingClassifier(estimator=svm_classifier, n_estimators=50, random_state=42)\n",
        "\n",
        "# Train the Bagging Classifier\n",
        "bagging_classifier.fit(X_train, y_train)\n",
        "\n",
        "# Make predictions\n",
        "y_pred = bagging_classifier.predict(X_test)\n",
        "\n",
        "# Calculate the accuracy\n",
        "accuracy = accuracy_score(y_test, y_pred)\n",
        "\n",
        "print(f\"Bagging Classifier Accuracy: {accuracy}\")\n"
      ],
      "metadata": {
        "colab": {
          "base_uri": "https://localhost:8080/"
        },
        "id": "uo6XTQyyD-3Q",
        "outputId": "2d85feaf-afac-4c64-ffb2-dc8ddad629fa"
      },
      "execution_count": null,
      "outputs": [
        {
          "output_type": "stream",
          "name": "stdout",
          "text": [
            "Bagging Classifier Accuracy: 1.0\n"
          ]
        }
      ]
    },
    {
      "cell_type": "markdown",
      "source": [
        "**27.Train a Random Forest Classifier with different numbers of trees and compare accuracy.**"
      ],
      "metadata": {
        "id": "oSXAmZRtEArS"
      }
    },
    {
      "cell_type": "code",
      "source": [
        "from sklearn.ensemble import RandomForestClassifier\n",
        "from sklearn.datasets import load_iris\n",
        "from sklearn.model_selection import train_test_split\n",
        "from sklearn.metrics import accuracy_score\n",
        "\n",
        "# Load the Iris dataset\n",
        "data = load_iris()\n",
        "X = data.data\n",
        "y = data.target\n",
        "\n",
        "# Split the dataset into training and testing sets\n",
        "X_train, X_test, y_train, y_test = train_test_split(X, y, test_size=0.3, random_state=42)\n",
        "\n",
        "# List of different numbers of trees (n_estimators) to test\n",
        "n_estimators_list = [10, 50, 100, 200, 500]\n",
        "\n",
        "# Store accuracy results\n",
        "accuracy_results = {}\n",
        "\n",
        "# Train Random Forest Classifiers with different numbers of trees\n",
        "for n in n_estimators_list:\n",
        "    rf_classifier = RandomForestClassifier(n_estimators=n, random_state=42)\n",
        "    rf_classifier.fit(X_train, y_train)\n",
        "    y_pred = rf_classifier.predict(X_test)\n",
        "    accuracy = accuracy_score(y_test, y_pred)\n",
        "    accuracy_results[n] = accuracy\n",
        "\n",
        "# Print accuracy results for different n_estimators\n",
        "for n, accuracy in accuracy_results.items():\n",
        "    print(f\"Random Forest with {n} trees - Accuracy: {accuracy}\")\n"
      ],
      "metadata": {
        "colab": {
          "base_uri": "https://localhost:8080/"
        },
        "id": "5YXDm-xbEGgV",
        "outputId": "70d528ab-329f-4836-abce-6cf2d436a07e"
      },
      "execution_count": null,
      "outputs": [
        {
          "output_type": "stream",
          "name": "stdout",
          "text": [
            "Random Forest with 10 trees - Accuracy: 1.0\n",
            "Random Forest with 50 trees - Accuracy: 1.0\n",
            "Random Forest with 100 trees - Accuracy: 1.0\n",
            "Random Forest with 200 trees - Accuracy: 1.0\n",
            "Random Forest with 500 trees - Accuracy: 1.0\n"
          ]
        }
      ]
    },
    {
      "cell_type": "markdown",
      "source": [
        "**28.Train a Bagging Classifier using Logistic Regression as a base estimator and print AUC score**"
      ],
      "metadata": {
        "id": "_FGzhStFENSj"
      }
    },
    {
      "cell_type": "code",
      "source": [
        "from sklearn.linear_model import LogisticRegression\n",
        "from sklearn.ensemble import BaggingClassifier\n",
        "from sklearn.datasets import load_iris\n",
        "from sklearn.model_selection import train_test_split\n",
        "from sklearn.metrics import roc_auc_score\n",
        "from sklearn.preprocessing import label_binarize\n",
        "\n",
        "# Load the Iris dataset\n",
        "data = load_iris()\n",
        "X = data.data\n",
        "y = data.target  # Use the original class labels, not the binarized ones\n",
        "\n",
        "# Split the dataset into training and testing sets\n",
        "X_train, X_test, y_train, y_test = train_test_split(X, y, test_size=0.3, random_state=42)\n",
        "\n",
        "# Initialize a Logistic Regression model\n",
        "logreg_classifier = LogisticRegression()\n",
        "\n",
        "# Initialize a Bagging Classifier with Logistic Regression as base estimator\n",
        "bagging_classifier = BaggingClassifier(estimator=logreg_classifier, n_estimators=50, random_state=42)\n",
        "\n",
        "# Train the Bagging Classifier\n",
        "bagging_classifier.fit(X_train, y_train)\n",
        "\n",
        "# Predict probabilities for the AUC calculation\n",
        "y_pred_prob = bagging_classifier.predict_proba(X_test)\n",
        "\n",
        "# Calculate the AUC score for each class and average it\n",
        "auc_score = roc_auc_score(y_test, y_pred_prob, average='macro', multi_class='ovr')\n",
        "\n",
        "print(f\"AUC Score: {auc_score}\")\n"
      ],
      "metadata": {
        "colab": {
          "base_uri": "https://localhost:8080/"
        },
        "id": "v_k1mQUpEpYe",
        "outputId": "3ec41aa4-6878-4d06-f5b6-67a94a5e5f45"
      },
      "execution_count": null,
      "outputs": [
        {
          "output_type": "stream",
          "name": "stderr",
          "text": [
            "/usr/local/lib/python3.11/dist-packages/sklearn/linear_model/_logistic.py:465: ConvergenceWarning: lbfgs failed to converge (status=1):\n",
            "STOP: TOTAL NO. of ITERATIONS REACHED LIMIT.\n",
            "\n",
            "Increase the number of iterations (max_iter) or scale the data as shown in:\n",
            "    https://scikit-learn.org/stable/modules/preprocessing.html\n",
            "Please also refer to the documentation for alternative solver options:\n",
            "    https://scikit-learn.org/stable/modules/linear_model.html#logistic-regression\n",
            "  n_iter_i = _check_optimize_result(\n",
            "/usr/local/lib/python3.11/dist-packages/sklearn/linear_model/_logistic.py:465: ConvergenceWarning: lbfgs failed to converge (status=1):\n",
            "STOP: TOTAL NO. of ITERATIONS REACHED LIMIT.\n",
            "\n",
            "Increase the number of iterations (max_iter) or scale the data as shown in:\n",
            "    https://scikit-learn.org/stable/modules/preprocessing.html\n",
            "Please also refer to the documentation for alternative solver options:\n",
            "    https://scikit-learn.org/stable/modules/linear_model.html#logistic-regression\n",
            "  n_iter_i = _check_optimize_result(\n",
            "/usr/local/lib/python3.11/dist-packages/sklearn/linear_model/_logistic.py:465: ConvergenceWarning: lbfgs failed to converge (status=1):\n",
            "STOP: TOTAL NO. of ITERATIONS REACHED LIMIT.\n",
            "\n",
            "Increase the number of iterations (max_iter) or scale the data as shown in:\n",
            "    https://scikit-learn.org/stable/modules/preprocessing.html\n",
            "Please also refer to the documentation for alternative solver options:\n",
            "    https://scikit-learn.org/stable/modules/linear_model.html#logistic-regression\n",
            "  n_iter_i = _check_optimize_result(\n",
            "/usr/local/lib/python3.11/dist-packages/sklearn/linear_model/_logistic.py:465: ConvergenceWarning: lbfgs failed to converge (status=1):\n",
            "STOP: TOTAL NO. of ITERATIONS REACHED LIMIT.\n",
            "\n",
            "Increase the number of iterations (max_iter) or scale the data as shown in:\n",
            "    https://scikit-learn.org/stable/modules/preprocessing.html\n",
            "Please also refer to the documentation for alternative solver options:\n",
            "    https://scikit-learn.org/stable/modules/linear_model.html#logistic-regression\n",
            "  n_iter_i = _check_optimize_result(\n"
          ]
        },
        {
          "output_type": "stream",
          "name": "stdout",
          "text": [
            "AUC Score: 1.0\n"
          ]
        },
        {
          "output_type": "stream",
          "name": "stderr",
          "text": [
            "/usr/local/lib/python3.11/dist-packages/sklearn/linear_model/_logistic.py:465: ConvergenceWarning: lbfgs failed to converge (status=1):\n",
            "STOP: TOTAL NO. of ITERATIONS REACHED LIMIT.\n",
            "\n",
            "Increase the number of iterations (max_iter) or scale the data as shown in:\n",
            "    https://scikit-learn.org/stable/modules/preprocessing.html\n",
            "Please also refer to the documentation for alternative solver options:\n",
            "    https://scikit-learn.org/stable/modules/linear_model.html#logistic-regression\n",
            "  n_iter_i = _check_optimize_result(\n"
          ]
        }
      ]
    },
    {
      "cell_type": "markdown",
      "source": [
        "**29.Train a Random Forest Regressor and analyze feature importance scores.**"
      ],
      "metadata": {
        "id": "dgKP6O15EtwB"
      }
    },
    {
      "cell_type": "code",
      "source": [
        "from sklearn.ensemble import RandomForestRegressor\n",
        "from sklearn.datasets import fetch_california_housing\n",
        "from sklearn.model_selection import train_test_split\n",
        "import matplotlib.pyplot as plt\n",
        "\n",
        "# Load the California Housing dataset\n",
        "housing = fetch_california_housing()\n",
        "X = housing.data\n",
        "y = housing.target\n",
        "\n",
        "# Split the dataset into training and testing sets\n",
        "X_train, X_test, y_train, y_test = train_test_split(X, y, test_size=0.3, random_state=42)\n",
        "\n",
        "# Initialize a Random Forest Regressor\n",
        "rf_regressor = RandomForestRegressor(n_estimators=100, random_state=42)\n",
        "\n",
        "# Train the Random Forest Regressor\n",
        "rf_regressor.fit(X_train, y_train)\n",
        "\n",
        "# Get the feature importance scores\n",
        "feature_importance = rf_regressor.feature_importances_\n",
        "\n",
        "# Plot the feature importance scores\n",
        "features = housing.feature_names\n",
        "plt.figure(figsize=(10, 6))\n",
        "plt.barh(features, feature_importance)\n",
        "plt.xlabel(\"Feature Importance\")\n",
        "plt.title(\"Feature Importance Scores for Random Forest Regressor\")\n",
        "plt.show()\n"
      ],
      "metadata": {
        "colab": {
          "base_uri": "https://localhost:8080/",
          "height": 564
        },
        "id": "xDOKw-3RFB4z",
        "outputId": "85746f09-1b0e-4ed9-f2f4-6d736b43f626"
      },
      "execution_count": null,
      "outputs": [
        {
          "output_type": "display_data",
          "data": {
            "text/plain": [
              "<Figure size 1000x600 with 1 Axes>"
            ],
            "image/png": "[encoded data removed]"
          },
          "metadata": {}
        }
      ]
    },
    {
      "cell_type": "markdown",
      "source": [
        "**30.Train an ensemble model using both Bagging and Random Forest and compare accuracy.**"
      ],
      "metadata": {
        "id": "-KBCnuMOFLAQ"
      }
    },
    {
      "cell_type": "code",
      "source": [
        "from sklearn.ensemble import BaggingClassifier, RandomForestClassifier\n",
        "from sklearn.datasets import load_iris\n",
        "from sklearn.model_selection import train_test_split\n",
        "from sklearn.metrics import accuracy_score\n",
        "from sklearn.tree import DecisionTreeClassifier\n",
        "\n",
        "# Load the Iris dataset\n",
        "data = load_iris()\n",
        "X = data.data\n",
        "y = data.target\n",
        "\n",
        "# Split the dataset into training and testing sets\n",
        "X_train, X_test, y_train, y_test = train_test_split(X, y, test_size=0.3, random_state=42)\n",
        "\n",
        "# Initialize a Bagging Classifier with Decision Trees as base estimators\n",
        "bagging_classifier = BaggingClassifier(n_estimators=50, random_state=42)\n",
        "\n",
        "# Initialize a Random Forest Classifier\n",
        "random_forest_classifier = RandomForestClassifier(n_estimators=50, random_state=42)\n",
        "\n",
        "# Train both classifiers\n",
        "bagging_classifier.fit(X_train, y_train)\n",
        "random_forest_classifier.fit(X_train, y_train)\n",
        "\n",
        "# Make predictions with both models\n",
        "y_pred_bagging = bagging_classifier.predict(X_test)\n",
        "y_pred_rf = random_forest_classifier.predict(X_test)\n",
        "\n",
        "# Calculate accuracy for both models\n",
        "accuracy_bagging = accuracy_score(y_test, y_pred_bagging)\n",
        "accuracy_rf = accuracy_score(y_test, y_pred_rf)\n",
        "\n",
        "# Print the accuracies\n",
        "print(f\"Accuracy of Bagging Classifier: {accuracy_bagging}\")\n",
        "print(f\"Accuracy of Random Forest Classifier: {accuracy_rf}\")\n"
      ],
      "metadata": {
        "colab": {
          "base_uri": "https://localhost:8080/"
        },
        "id": "9h6ZeF3qFhnn",
        "outputId": "f9889b36-26ca-4bf2-be60-514449f7c13e"
      },
      "execution_count": null,
      "outputs": [
        {
          "output_type": "stream",
          "name": "stdout",
          "text": [
            "Accuracy of Bagging Classifier: 1.0\n",
            "Accuracy of Random Forest Classifier: 1.0\n"
          ]
        }
      ]
    },
    {
      "cell_type": "markdown",
      "source": [
        "**31.Train a Random Forest Classifier and tune hyperparameters using GridSearchCV.**"
      ],
      "metadata": {
        "id": "dGDxiQt-F8EW"
      }
    },
    {
      "cell_type": "code",
      "source": [
        "from sklearn.ensemble import RandomForestClassifier\n",
        "from sklearn.datasets import load_iris\n",
        "from sklearn.model_selection import train_test_split, GridSearchCV\n",
        "from sklearn.metrics import accuracy_score\n",
        "\n",
        "# Load the Iris dataset\n",
        "data = load_iris()\n",
        "X = data.data\n",
        "y = data.target\n",
        "\n",
        "# Split the dataset into training and testing sets\n",
        "X_train, X_test, y_train, y_test = train_test_split(X, y, test_size=0.3, random_state=42)\n",
        "\n",
        "# Initialize a Random Forest Classifier\n",
        "rf_classifier = RandomForestClassifier(random_state=42)\n",
        "\n",
        "# Define the hyperparameters grid to search\n",
        "param_grid = {\n",
        "    'n_estimators': [50, 100, 200],  # Number of trees in the forest\n",
        "    'max_depth': [None, 10, 20, 30],  # Maximum depth of the tree\n",
        "    'min_samples_split': [2, 5, 10],  # Minimum number of samples required to split a node\n",
        "    'min_samples_leaf': [1, 2, 4],  # Minimum number of samples required to be at a leaf node\n",
        "    'max_features': ['auto', 'sqrt', 'log2']  # Number of features to consider for the best split\n",
        "}\n",
        "\n",
        "# Initialize GridSearchCV\n",
        "grid_search = GridSearchCV(estimator=rf_classifier, param_grid=param_grid, cv=5, n_jobs=-1, verbose=2)\n",
        "\n",
        "# Fit GridSearchCV\n",
        "grid_search.fit(X_train, y_train)\n",
        "\n",
        "# Get the best parameters and best score\n",
        "best_params = grid_search.best_params_\n",
        "best_score = grid_search.best_score_\n",
        "\n",
        "# Print the best parameters and score\n",
        "print(f\"Best Hyperparameters: {best_params}\")\n",
        "print(f\"Best Cross-validation Score: {best_score}\")\n",
        "\n",
        "# Evaluate the model with the best parameters on the test set\n",
        "best_rf_classifier = grid_search.best_estimator_\n",
        "y_pred = best_rf_classifier.predict(X_test)\n",
        "\n",
        "# Calculate accuracy on the test set\n",
        "accuracy = accuracy_score(y_test, y_pred)\n",
        "print(f\"Test Set Accuracy: {accuracy}\")\n"
      ],
      "metadata": {
        "colab": {
          "base_uri": "https://localhost:8080/"
        },
        "id": "M-JhKyxwGKyn",
        "outputId": "a44baab6-db41-472b-9cf8-ea971bd1c636"
      },
      "execution_count": null,
      "outputs": [
        {
          "output_type": "stream",
          "name": "stdout",
          "text": [
            "Fitting 5 folds for each of 324 candidates, totalling 1620 fits\n",
            "Best Hyperparameters: {'max_depth': None, 'max_features': 'sqrt', 'min_samples_leaf': 1, 'min_samples_split': 2, 'n_estimators': 100}\n",
            "Best Cross-validation Score: 0.9428571428571428\n",
            "Test Set Accuracy: 1.0\n"
          ]
        },
        {
          "output_type": "stream",
          "name": "stderr",
          "text": [
            "/usr/local/lib/python3.11/dist-packages/sklearn/model_selection/_validation.py:528: FitFailedWarning: \n",
            "540 fits failed out of a total of 1620.\n",
            "The score on these train-test partitions for these parameters will be set to nan.\n",
            "If these failures are not expected, you can try to debug them by setting error_score='raise'.\n",
            "\n",
            "Below are more details about the failures:\n",
            "--------------------------------------------------------------------------------\n",
            "540 fits failed with the following error:\n",
            "Traceback (most recent call last):\n",
            "  File \"/usr/local/lib/python3.11/dist-packages/sklearn/model_selection/_validation.py\", line 866, in _fit_and_score\n",
            "    estimator.fit(X_train, y_train, **fit_params)\n",
            "  File \"/usr/local/lib/python3.11/dist-packages/sklearn/base.py\", line 1382, in wrapper\n",
            "    estimator._validate_params()\n",
            "  File \"/usr/local/lib/python3.11/dist-packages/sklearn/base.py\", line 436, in _validate_params\n",
            "    validate_parameter_constraints(\n",
            "  File \"/usr/local/lib/python3.11/dist-packages/sklearn/utils/_param_validation.py\", line 98, in validate_parameter_constraints\n",
            "    raise InvalidParameterError(\n",
            "sklearn.utils._param_validation.InvalidParameterError: The 'max_features' parameter of RandomForestClassifier must be an int in the range [1, inf), a float in the range (0.0, 1.0], a str among {'log2', 'sqrt'} or None. Got 'auto' instead.\n",
            "\n",
            "  warnings.warn(some_fits_failed_message, FitFailedWarning)\n",
            "/usr/local/lib/python3.11/dist-packages/sklearn/model_selection/_search.py:1108: UserWarning: One or more of the test scores are non-finite: [       nan        nan        nan        nan        nan        nan\n",
            "        nan        nan        nan        nan        nan        nan\n",
            "        nan        nan        nan        nan        nan        nan\n",
            "        nan        nan        nan        nan        nan        nan\n",
            "        nan        nan        nan 0.93333333 0.94285714 0.94285714\n",
            " 0.93333333 0.94285714 0.94285714 0.93333333 0.94285714 0.94285714\n",
            " 0.94285714 0.93333333 0.93333333 0.93333333 0.93333333 0.93333333\n",
            " 0.93333333 0.93333333 0.93333333 0.94285714 0.93333333 0.93333333\n",
            " 0.94285714 0.93333333 0.93333333 0.93333333 0.93333333 0.93333333\n",
            " 0.93333333 0.94285714 0.94285714 0.93333333 0.94285714 0.94285714\n",
            " 0.93333333 0.94285714 0.94285714 0.94285714 0.93333333 0.93333333\n",
            " 0.93333333 0.93333333 0.93333333 0.93333333 0.93333333 0.93333333\n",
            " 0.94285714 0.93333333 0.93333333 0.94285714 0.93333333 0.93333333\n",
            " 0.93333333 0.93333333 0.93333333        nan        nan        nan\n",
            "        nan        nan        nan        nan        nan        nan\n",
            "        nan        nan        nan        nan        nan        nan\n",
            "        nan        nan        nan        nan        nan        nan\n",
            "        nan        nan        nan        nan        nan        nan\n",
            " 0.93333333 0.94285714 0.94285714 0.93333333 0.94285714 0.94285714\n",
            " 0.93333333 0.94285714 0.94285714 0.94285714 0.93333333 0.93333333\n",
            " 0.93333333 0.93333333 0.93333333 0.93333333 0.93333333 0.93333333\n",
            " 0.94285714 0.93333333 0.93333333 0.94285714 0.93333333 0.93333333\n",
            " 0.93333333 0.93333333 0.93333333 0.93333333 0.94285714 0.94285714\n",
            " 0.93333333 0.94285714 0.94285714 0.93333333 0.94285714 0.94285714\n",
            " 0.94285714 0.93333333 0.93333333 0.93333333 0.93333333 0.93333333\n",
            " 0.93333333 0.93333333 0.93333333 0.94285714 0.93333333 0.93333333\n",
            " 0.94285714 0.93333333 0.93333333 0.93333333 0.93333333 0.93333333\n",
            "        nan        nan        nan        nan        nan        nan\n",
            "        nan        nan        nan        nan        nan        nan\n",
            "        nan        nan        nan        nan        nan        nan\n",
            "        nan        nan        nan        nan        nan        nan\n",
            "        nan        nan        nan 0.93333333 0.94285714 0.94285714\n",
            " 0.93333333 0.94285714 0.94285714 0.93333333 0.94285714 0.94285714\n",
            " 0.94285714 0.93333333 0.93333333 0.93333333 0.93333333 0.93333333\n",
            " 0.93333333 0.93333333 0.93333333 0.94285714 0.93333333 0.93333333\n",
            " 0.94285714 0.93333333 0.93333333 0.93333333 0.93333333 0.93333333\n",
            " 0.93333333 0.94285714 0.94285714 0.93333333 0.94285714 0.94285714\n",
            " 0.93333333 0.94285714 0.94285714 0.94285714 0.93333333 0.93333333\n",
            " 0.93333333 0.93333333 0.93333333 0.93333333 0.93333333 0.93333333\n",
            " 0.94285714 0.93333333 0.93333333 0.94285714 0.93333333 0.93333333\n",
            " 0.93333333 0.93333333 0.93333333        nan        nan        nan\n",
            "        nan        nan        nan        nan        nan        nan\n",
            "        nan        nan        nan        nan        nan        nan\n",
            "        nan        nan        nan        nan        nan        nan\n",
            "        nan        nan        nan        nan        nan        nan\n",
            " 0.93333333 0.94285714 0.94285714 0.93333333 0.94285714 0.94285714\n",
            " 0.93333333 0.94285714 0.94285714 0.94285714 0.93333333 0.93333333\n",
            " 0.93333333 0.93333333 0.93333333 0.93333333 0.93333333 0.93333333\n",
            " 0.94285714 0.93333333 0.93333333 0.94285714 0.93333333 0.93333333\n",
            " 0.93333333 0.93333333 0.93333333 0.93333333 0.94285714 0.94285714\n",
            " 0.93333333 0.94285714 0.94285714 0.93333333 0.94285714 0.94285714\n",
            " 0.94285714 0.93333333 0.93333333 0.93333333 0.93333333 0.93333333\n",
            " 0.93333333 0.93333333 0.93333333 0.94285714 0.93333333 0.93333333\n",
            " 0.94285714 0.93333333 0.93333333 0.93333333 0.93333333 0.93333333]\n",
            "  warnings.warn(\n"
          ]
        }
      ]
    },
    {
      "cell_type": "markdown",
      "source": [
        "**32.Train a Bagging Regressor with different numbers of base estimators and compare performance.**"
      ],
      "metadata": {
        "id": "Tk_wPVPEHNKE"
      }
    },
    {
      "cell_type": "code",
      "source": [
        "from sklearn.datasets import fetch_california_housing\n",
        "from sklearn.model_selection import train_test_split\n",
        "from sklearn.ensemble import BaggingRegressor\n",
        "from sklearn.tree import DecisionTreeRegressor\n",
        "from sklearn.metrics import mean_squared_error\n",
        "\n",
        "# Load the California housing dataset\n",
        "data = fetch_california_housing()\n",
        "X = data.data\n",
        "y = data.target\n",
        "\n",
        "# Split the dataset into training and testing sets\n",
        "X_train, X_test, y_train, y_test = train_test_split(X, y, test_size=0.3, random_state=42)\n",
        "\n",
        "# List of different numbers of base estimators to test\n",
        "n_estimators_list = [10, 50, 100, 200]\n",
        "\n",
        "# Store performance results\n",
        "results = {}\n",
        "\n",
        "# Train and evaluate Bagging Regressor with different numbers of base estimators\n",
        "for n_estimators in n_estimators_list:\n",
        "    # Initialize the Bagging Regressor with DecisionTreeRegressor as the base estimator\n",
        "    bagging_regressor = BaggingRegressor(DecisionTreeRegressor(random_state=42), n_estimators=n_estimators, random_state=42)\n",
        "\n",
        "    # Train the model\n",
        "    bagging_regressor.fit(X_train, y_train)\n",
        "\n",
        "    # Predict on the test set\n",
        "    y_pred = bagging_regressor.predict(X_test)\n",
        "\n",
        "    # Calculate Mean Squared Error (MSE)\n",
        "    mse = mean_squared_error(y_test, y_pred)\n",
        "\n",
        "    # Store the result\n",
        "    results[n_estimators] = mse\n",
        "\n",
        "# Print results\n",
        "for n_estimators, mse in results.items():\n",
        "    print(f\"Number of Estimators: {n_estimators} => Mean Squared Error: {mse}\")\n"
      ],
      "metadata": {
        "colab": {
          "base_uri": "https://localhost:8080/"
        },
        "id": "KwP2ZxfDH5YK",
        "outputId": "008d7fa5-f02d-4dee-a04f-e4bc47c1ec1a"
      },
      "execution_count": null,
      "outputs": [
        {
          "output_type": "stream",
          "name": "stdout",
          "text": [
            "Number of Estimators: 10 => Mean Squared Error: 0.28623579601385674\n",
            "Number of Estimators: 50 => Mean Squared Error: 0.25787382250585034\n",
            "Number of Estimators: 100 => Mean Squared Error: 0.2568358813508342\n",
            "Number of Estimators: 200 => Mean Squared Error: 0.2541650541215747\n"
          ]
        }
      ]
    },
    {
      "cell_type": "markdown",
      "source": [
        "**33.Train a Random Forest Classifier and analyze misclassified samples.**"
      ],
      "metadata": {
        "id": "e_hvPaORIQPF"
      }
    },
    {
      "cell_type": "code",
      "source": [
        "from sklearn.datasets import load_breast_cancer\n",
        "from sklearn.model_selection import train_test_split\n",
        "from sklearn.ensemble import RandomForestClassifier\n",
        "from sklearn.metrics import accuracy_score, confusion_matrix\n",
        "import numpy as np\n",
        "import pandas as pd\n",
        "\n",
        "# Load the breast cancer dataset\n",
        "data = load_breast_cancer()\n",
        "X = data.data\n",
        "y = data.target\n",
        "\n",
        "# Split the dataset into training and testing sets\n",
        "X_train, X_test, y_train, y_test = train_test_split(X, y, test_size=0.3, random_state=42)\n",
        "\n",
        "# Initialize and train the Random Forest Classifier\n",
        "rf_classifier = RandomForestClassifier(random_state=42)\n",
        "rf_classifier.fit(X_train, y_train)\n",
        "\n",
        "# Predict the labels for the test set\n",
        "y_pred = rf_classifier.predict(X_test)\n",
        "\n",
        "# Calculate accuracy\n",
        "accuracy = accuracy_score(y_test, y_pred)\n",
        "print(f\"Accuracy of the Random Forest Classifier: {accuracy:.4f}\")\n",
        "\n",
        "# Get the confusion matrix\n",
        "cm = confusion_matrix(y_test, y_pred)\n",
        "print(f\"Confusion Matrix:\\n{cm}\")\n",
        "\n",
        "# Analyze misclassified samples\n",
        "misclassified_indices = np.where(y_pred != y_test)[0]\n",
        "misclassified_samples = X_test[misclassified_indices]\n",
        "misclassified_labels = y_pred[misclassified_indices]\n",
        "true_labels = y_test[misclassified_indices]\n",
        "\n",
        "# Print some of the misclassified samples and their true vs predicted labels\n",
        "print(\"\\nMisclassified Samples:\")\n",
        "for i in range(min(5, len(misclassified_samples))):\n",
        "    print(f\"Sample {i + 1}: True Label = {true_labels[i]}, Predicted Label = {misclassified_labels[i]}\")\n",
        "    print(f\"Sample features: {misclassified_samples[i]}\")\n",
        "    print('-' * 40)\n"
      ],
      "metadata": {
        "colab": {
          "base_uri": "https://localhost:8080/"
        },
        "id": "fkTqkUplIUT0",
        "outputId": "e1ff3196-7274-4c07-9476-18205bf500dc"
      },
      "execution_count": null,
      "outputs": [
        {
          "output_type": "stream",
          "name": "stdout",
          "text": [
            "Accuracy of the Random Forest Classifier: 0.9708\n",
            "Confusion Matrix:\n",
            "[[ 59   4]\n",
            " [  1 107]]\n",
            "\n",
            "Misclassified Samples:\n",
            "Sample 1: True Label = 1, Predicted Label = 0\n",
            "Sample features: [1.334e+01 1.586e+01 8.649e+01 5.200e+02 1.078e-01 1.535e-01 1.169e-01\n",
            " 6.987e-02 1.942e-01 6.902e-02 2.860e-01 1.016e+00 1.535e+00 1.296e+01\n",
            " 6.794e-03 3.575e-02 3.980e-02 1.383e-02 2.134e-02 4.603e-03 1.553e+01\n",
            " 2.319e+01 9.666e+01 6.149e+02 1.536e-01 4.791e-01 4.858e-01 1.708e-01\n",
            " 3.527e-01 1.016e-01]\n",
            "----------------------------------------\n",
            "Sample 2: True Label = 0, Predicted Label = 1\n",
            "Sample features: [1.380e+01 1.579e+01 9.043e+01 5.841e+02 1.007e-01 1.280e-01 7.789e-02\n",
            " 5.069e-02 1.662e-01 6.566e-02 2.787e-01 6.205e-01 1.957e+00 2.335e+01\n",
            " 4.717e-03 2.065e-02 1.759e-02 9.206e-03 1.220e-02 3.130e-03 1.657e+01\n",
            " 2.086e+01 1.103e+02 8.124e+02 1.411e-01 3.542e-01 2.779e-01 1.383e-01\n",
            " 2.589e-01 1.030e-01]\n",
            "----------------------------------------\n",
            "Sample 3: True Label = 0, Predicted Label = 1\n",
            "Sample features: [1.396e+01 1.705e+01 9.143e+01 6.024e+02 1.096e-01 1.279e-01 9.789e-02\n",
            " 5.246e-02 1.908e-01 6.130e-02 4.250e-01 8.098e-01 2.563e+00 3.574e+01\n",
            " 6.351e-03 2.679e-02 3.119e-02 1.342e-02 2.062e-02 2.695e-03 1.639e+01\n",
            " 2.207e+01 1.081e+02 8.260e+02 1.512e-01 3.262e-01 3.209e-01 1.374e-01\n",
            " 3.068e-01 7.957e-02]\n",
            "----------------------------------------\n",
            "Sample 4: True Label = 0, Predicted Label = 1\n",
            "Sample features: [1.448e+01 2.146e+01 9.425e+01 6.482e+02 9.444e-02 9.947e-02 1.204e-01\n",
            " 4.938e-02 2.075e-01 5.636e-02 4.204e-01 2.220e+00 3.301e+00 3.887e+01\n",
            " 9.369e-03 2.983e-02 5.371e-02 1.761e-02 2.418e-02 3.249e-03 1.621e+01\n",
            " 2.925e+01 1.084e+02 8.089e+02 1.306e-01 1.976e-01 3.349e-01 1.225e-01\n",
            " 3.020e-01 6.846e-02]\n",
            "----------------------------------------\n",
            "Sample 5: True Label = 0, Predicted Label = 1\n",
            "Sample features: [1.513e+01 2.981e+01 9.671e+01 7.195e+02 8.320e-02 4.605e-02 4.686e-02\n",
            " 2.739e-02 1.852e-01 5.294e-02 4.681e-01 1.627e+00 3.043e+00 4.538e+01\n",
            " 6.831e-03 1.427e-02 2.489e-02 9.087e-03 3.151e-02 1.750e-03 1.726e+01\n",
            " 3.691e+01 1.101e+02 9.314e+02 1.148e-01 9.866e-02 1.547e-01 6.575e-02\n",
            " 3.233e-01 6.165e-02]\n",
            "----------------------------------------\n"
          ]
        }
      ]
    },
    {
      "cell_type": "markdown",
      "source": [
        "**34.Train a Bagging Classifier and compare its performance with a single Decision Tree Classifier.**"
      ],
      "metadata": {
        "id": "X6RaYhRvIcU8"
      }
    },
    {
      "cell_type": "code",
      "source": [
        "from sklearn.datasets import load_breast_cancer\n",
        "from sklearn.model_selection import train_test_split\n",
        "from sklearn.ensemble import BaggingClassifier\n",
        "from sklearn.tree import DecisionTreeClassifier\n",
        "from sklearn.metrics import accuracy_score\n",
        "\n",
        "# Load the breast cancer dataset\n",
        "data = load_breast_cancer()\n",
        "X = data.data\n",
        "y = data.target\n",
        "\n",
        "# Split the dataset into training and testing sets\n",
        "X_train, X_test, y_train, y_test = train_test_split(X, y, test_size=0.3, random_state=42)\n",
        "\n",
        "# Initialize the Decision Tree Classifier\n",
        "dt_classifier = DecisionTreeClassifier(random_state=42)\n",
        "\n",
        "# Train the Decision Tree Classifier\n",
        "dt_classifier.fit(X_train, y_train)\n",
        "\n",
        "# Predict using the Decision Tree Classifier\n",
        "y_pred_dt = dt_classifier.predict(X_test)\n",
        "\n",
        "# Calculate accuracy for the Decision Tree Classifier\n",
        "accuracy_dt = accuracy_score(y_test, y_pred_dt)\n",
        "print(f\"Accuracy of the Decision Tree Classifier: {accuracy_dt:.4f}\")\n",
        "\n",
        "# Initialize the Bagging Classifier (it uses Decision Tree by default)\n",
        "bagging_classifier = BaggingClassifier(n_estimators=50, random_state=42)\n",
        "\n",
        "# Train the Bagging Classifier\n",
        "bagging_classifier.fit(X_train, y_train)\n",
        "\n",
        "# Predict using the Bagging Classifier\n",
        "y_pred_bagging = bagging_classifier.predict(X_test)\n",
        "\n",
        "# Calculate accuracy for the Bagging Classifier\n",
        "accuracy_bagging = accuracy_score(y_test, y_pred_bagging)\n",
        "print(f\"Accuracy of the Bagging Classifier: {accuracy_bagging:.4f}\")\n",
        "\n",
        "# Compare the performance\n",
        "if accuracy_bagging > accuracy_dt:\n",
        "    print(f\"Bagging Classifier performed better than the Decision Tree Classifier by {accuracy_bagging - accuracy_dt:.4f}\")\n",
        "else:\n",
        "    print(f\"Decision Tree Classifier performed better than the Bagging Classifier by {accuracy_dt - accuracy_bagging:.4f}\")\n"
      ],
      "metadata": {
        "colab": {
          "base_uri": "https://localhost:8080/"
        },
        "id": "rFONxosHIwPG",
        "outputId": "900ad814-7587-46ee-a60d-b31e822b6a07"
      },
      "execution_count": null,
      "outputs": [
        {
          "output_type": "stream",
          "name": "stdout",
          "text": [
            "Accuracy of the Decision Tree Classifier: 0.9415\n",
            "Accuracy of the Bagging Classifier: 0.9591\n",
            "Bagging Classifier performed better than the Decision Tree Classifier by 0.0175\n"
          ]
        }
      ]
    },
    {
      "cell_type": "markdown",
      "source": [
        "35. Train a Random Forest Classifier and visualize the confusion matrix."
      ],
      "metadata": {
        "id": "fTS7dptqIyIY"
      }
    },
    {
      "cell_type": "code",
      "source": [
        "import matplotlib.pyplot as plt\n",
        "import seaborn as sns\n",
        "from sklearn.datasets import load_breast_cancer\n",
        "from sklearn.model_selection import train_test_split\n",
        "from sklearn.ensemble import RandomForestClassifier\n",
        "from sklearn.metrics import confusion_matrix\n",
        "import numpy as np\n",
        "\n",
        "# Load the breast cancer dataset\n",
        "data = load_breast_cancer()\n",
        "X = data.data\n",
        "y = data.target\n",
        "\n",
        "# Split the dataset into training and testing sets\n",
        "X_train, X_test, y_train, y_test = train_test_split(X, y, test_size=0.3, random_state=42)\n",
        "\n",
        "# Initialize and train the Random Forest Classifier\n",
        "rf_classifier = RandomForestClassifier(n_estimators=100, random_state=42)\n",
        "rf_classifier.fit(X_train, y_train)\n",
        "\n",
        "# Predict the labels for the test set\n",
        "y_pred = rf_classifier.predict(X_test)\n",
        "\n",
        "# Generate the confusion matrix\n",
        "cm = confusion_matrix(y_test, y_pred)\n",
        "\n",
        "# Plot the confusion matrix using seaborn\n",
        "plt.figure(figsize=(8, 6))\n",
        "sns.heatmap(cm, annot=True, fmt='d', cmap='Blues', xticklabels=data.target_names, yticklabels=data.target_names)\n",
        "plt.xlabel('Predicted')\n",
        "plt.ylabel('True')\n",
        "plt.title('Confusion Matrix for Random Forest Classifier')\n",
        "plt.show()\n"
      ],
      "metadata": {
        "colab": {
          "base_uri": "https://localhost:8080/",
          "height": 564
        },
        "id": "IwRfXfIjI3V6",
        "outputId": "b1288c62-03ae-4472-ed7f-91351feb649b"
      },
      "execution_count": null,
      "outputs": [
        {
          "output_type": "display_data",
          "data": {
            "text/plain": [
              "<Figure size 800x600 with 2 Axes>"
            ],
            "image/png": "[encoded data removed]"
          },
          "metadata": {}
        }
      ]
    },
    {
      "cell_type": "markdown",
      "source": [
        "**36.Train a Stacking Classifier using Decision Trees, SVM, and Logistic Regression, and compare accuracy**"
      ],
      "metadata": {
        "id": "m62kf6e6JAO-"
      }
    },
    {
      "cell_type": "code",
      "source": [
        "from sklearn.datasets import load_breast_cancer\n",
        "from sklearn.model_selection import train_test_split\n",
        "from sklearn.ensemble import StackingClassifier\n",
        "from sklearn.tree import DecisionTreeClassifier\n",
        "from sklearn.svm import SVC\n",
        "from sklearn.linear_model import LogisticRegression\n",
        "from sklearn.metrics import accuracy_score\n",
        "\n",
        "# Load the breast cancer dataset\n",
        "data = load_breast_cancer()\n",
        "X = data.data\n",
        "y = data.target\n",
        "\n",
        "# Split the dataset into training and testing sets\n",
        "X_train, X_test, y_train, y_test = train_test_split(X, y, test_size=0.3, random_state=42)\n",
        "\n",
        "# Initialize the base models\n",
        "dt_classifier = DecisionTreeClassifier(random_state=42)\n",
        "svm_classifier = SVC(probability=True, random_state=42)\n",
        "logreg_classifier = LogisticRegression(random_state=42)\n",
        "\n",
        "# Create the stacking classifier\n",
        "stacking_classifier = StackingClassifier(\n",
        "    estimators=[('dt', dt_classifier), ('svm', svm_classifier), ('logreg', logreg_classifier)],\n",
        "    final_estimator=LogisticRegression()  # Logistic Regression as final estimator\n",
        ")\n",
        "\n",
        "# Train the Stacking Classifier\n",
        "stacking_classifier.fit(X_train, y_train)\n",
        "\n",
        "# Predict with the Stacking Classifier\n",
        "y_pred_stack = stacking_classifier.predict(X_test)\n",
        "\n",
        "# Evaluate the accuracy of the Stacking Classifier\n",
        "stacking_accuracy = accuracy_score(y_test, y_pred_stack)\n",
        "\n",
        "# Train individual models (Decision Tree, SVM, Logistic Regression) for comparison\n",
        "dt_classifier.fit(X_train, y_train)\n",
        "y_pred_dt = dt_classifier.predict(X_test)\n",
        "dt_accuracy = accuracy_score(y_test, y_pred_dt)\n",
        "\n",
        "svm_classifier.fit(X_train, y_train)\n",
        "y_pred_svm = svm_classifier.predict(X_test)\n",
        "svm_accuracy = accuracy_score(y_test, y_pred_svm)\n",
        "\n",
        "logreg_classifier.fit(X_train, y_train)\n",
        "y_pred_logreg = logreg_classifier.predict(X_test)\n",
        "logreg_accuracy = accuracy_score(y_test, y_pred_logreg)\n",
        "\n",
        "# Print the accuracies for comparison\n",
        "print(f\"Accuracy of Stacking Classifier: {stacking_accuracy:.4f}\")\n",
        "print(f\"Accuracy of Decision Tree Classifier: {dt_accuracy:.4f}\")\n",
        "print(f\"Accuracy of SVM Classifier: {svm_accuracy:.4f}\")\n",
        "print(f\"Accuracy of Logistic Regression Classifier: {logreg_accuracy:.4f}\")\n"
      ],
      "metadata": {
        "colab": {
          "base_uri": "https://localhost:8080/"
        },
        "id": "jHEW0AOtJE7U",
        "outputId": "ff746ac7-55f5-4e6e-c953-fe14bf66798d"
      },
      "execution_count": null,
      "outputs": [
        {
          "output_type": "stream",
          "name": "stderr",
          "text": [
            "/usr/local/lib/python3.11/dist-packages/sklearn/linear_model/_logistic.py:465: ConvergenceWarning: lbfgs failed to converge (status=1):\n",
            "STOP: TOTAL NO. of ITERATIONS REACHED LIMIT.\n",
            "\n",
            "Increase the number of iterations (max_iter) or scale the data as shown in:\n",
            "    https://scikit-learn.org/stable/modules/preprocessing.html\n",
            "Please also refer to the documentation for alternative solver options:\n",
            "    https://scikit-learn.org/stable/modules/linear_model.html#logistic-regression\n",
            "  n_iter_i = _check_optimize_result(\n"
          ]
        },
        {
          "output_type": "stream",
          "name": "stdout",
          "text": [
            "Accuracy of Stacking Classifier: 0.9766\n",
            "Accuracy of Decision Tree Classifier: 0.9415\n",
            "Accuracy of SVM Classifier: 0.9357\n",
            "Accuracy of Logistic Regression Classifier: 0.9708\n"
          ]
        },
        {
          "output_type": "stream",
          "name": "stderr",
          "text": [
            "/usr/local/lib/python3.11/dist-packages/sklearn/linear_model/_logistic.py:465: ConvergenceWarning: lbfgs failed to converge (status=1):\n",
            "STOP: TOTAL NO. of ITERATIONS REACHED LIMIT.\n",
            "\n",
            "Increase the number of iterations (max_iter) or scale the data as shown in:\n",
            "    https://scikit-learn.org/stable/modules/preprocessing.html\n",
            "Please also refer to the documentation for alternative solver options:\n",
            "    https://scikit-learn.org/stable/modules/linear_model.html#logistic-regression\n",
            "  n_iter_i = _check_optimize_result(\n",
            "/usr/local/lib/python3.11/dist-packages/sklearn/linear_model/_logistic.py:465: ConvergenceWarning: lbfgs failed to converge (status=1):\n",
            "STOP: TOTAL NO. of ITERATIONS REACHED LIMIT.\n",
            "\n",
            "Increase the number of iterations (max_iter) or scale the data as shown in:\n",
            "    https://scikit-learn.org/stable/modules/preprocessing.html\n",
            "Please also refer to the documentation for alternative solver options:\n",
            "    https://scikit-learn.org/stable/modules/linear_model.html#logistic-regression\n",
            "  n_iter_i = _check_optimize_result(\n",
            "/usr/local/lib/python3.11/dist-packages/sklearn/linear_model/_logistic.py:465: ConvergenceWarning: lbfgs failed to converge (status=1):\n",
            "STOP: TOTAL NO. of ITERATIONS REACHED LIMIT.\n",
            "\n",
            "Increase the number of iterations (max_iter) or scale the data as shown in:\n",
            "    https://scikit-learn.org/stable/modules/preprocessing.html\n",
            "Please also refer to the documentation for alternative solver options:\n",
            "    https://scikit-learn.org/stable/modules/linear_model.html#logistic-regression\n",
            "  n_iter_i = _check_optimize_result(\n",
            "/usr/local/lib/python3.11/dist-packages/sklearn/linear_model/_logistic.py:465: ConvergenceWarning: lbfgs failed to converge (status=1):\n",
            "STOP: TOTAL NO. of ITERATIONS REACHED LIMIT.\n",
            "\n",
            "Increase the number of iterations (max_iter) or scale the data as shown in:\n",
            "    https://scikit-learn.org/stable/modules/preprocessing.html\n",
            "Please also refer to the documentation for alternative solver options:\n",
            "    https://scikit-learn.org/stable/modules/linear_model.html#logistic-regression\n",
            "  n_iter_i = _check_optimize_result(\n",
            "/usr/local/lib/python3.11/dist-packages/sklearn/linear_model/_logistic.py:465: ConvergenceWarning: lbfgs failed to converge (status=1):\n",
            "STOP: TOTAL NO. of ITERATIONS REACHED LIMIT.\n",
            "\n",
            "Increase the number of iterations (max_iter) or scale the data as shown in:\n",
            "    https://scikit-learn.org/stable/modules/preprocessing.html\n",
            "Please also refer to the documentation for alternative solver options:\n",
            "    https://scikit-learn.org/stable/modules/linear_model.html#logistic-regression\n",
            "  n_iter_i = _check_optimize_result(\n",
            "/usr/local/lib/python3.11/dist-packages/sklearn/linear_model/_logistic.py:465: ConvergenceWarning: lbfgs failed to converge (status=1):\n",
            "STOP: TOTAL NO. of ITERATIONS REACHED LIMIT.\n",
            "\n",
            "Increase the number of iterations (max_iter) or scale the data as shown in:\n",
            "    https://scikit-learn.org/stable/modules/preprocessing.html\n",
            "Please also refer to the documentation for alternative solver options:\n",
            "    https://scikit-learn.org/stable/modules/linear_model.html#logistic-regression\n",
            "  n_iter_i = _check_optimize_result(\n"
          ]
        }
      ]
    },
    {
      "cell_type": "markdown",
      "source": [
        "**37.Train a Random Forest Classifier and print the top 5 most important features.**"
      ],
      "metadata": {
        "id": "qyq85_DPJNF9"
      }
    },
    {
      "cell_type": "code",
      "source": [
        "from sklearn.datasets import load_breast_cancer\n",
        "from sklearn.ensemble import RandomForestClassifier\n",
        "import pandas as pd\n",
        "\n",
        "# Load the breast cancer dataset\n",
        "data = load_breast_cancer()\n",
        "X = data.data\n",
        "y = data.target\n",
        "feature_names = data.feature_names\n",
        "\n",
        "# Initialize the Random Forest Classifier\n",
        "rf_classifier = RandomForestClassifier(random_state=42)\n",
        "\n",
        "# Train the model\n",
        "rf_classifier.fit(X, y)\n",
        "\n",
        "# Get feature importance scores\n",
        "feature_importances = rf_classifier.feature_importances_\n",
        "\n",
        "# Create a DataFrame to show feature importance\n",
        "feature_importance_df = pd.DataFrame({\n",
        "    'Feature': feature_names,\n",
        "    'Importance': feature_importances\n",
        "})\n",
        "\n",
        "# Sort the features by importance in descending order\n",
        "feature_importance_df = feature_importance_df.sort_values(by='Importance', ascending=False)\n",
        "\n",
        "# Print the top 5 most important features\n",
        "print(\"Top 5 Most Important Features:\")\n",
        "print(feature_importance_df.head(5))\n"
      ],
      "metadata": {
        "colab": {
          "base_uri": "https://localhost:8080/"
        },
        "id": "T_5RJYIjJRQe",
        "outputId": "9e1887a3-6415-4701-e0fe-4365fe66ea77"
      },
      "execution_count": null,
      "outputs": [
        {
          "output_type": "stream",
          "name": "stdout",
          "text": [
            "Top 5 Most Important Features:\n",
            "                 Feature  Importance\n",
            "23            worst area    0.139357\n",
            "27  worst concave points    0.132225\n",
            "7    mean concave points    0.107046\n",
            "20          worst radius    0.082848\n",
            "22       worst perimeter    0.080850\n"
          ]
        }
      ]
    },
    {
      "cell_type": "markdown",
      "source": [
        "**38.Train a Bagging Classifier and evaluate performance using Precision, Recall, and F1-score.**"
      ],
      "metadata": {
        "id": "uEz1DaFgJXw7"
      }
    },
    {
      "cell_type": "code",
      "source": [
        "from sklearn.datasets import load_breast_cancer\n",
        "from sklearn.ensemble import BaggingClassifier\n",
        "from sklearn.tree import DecisionTreeClassifier\n",
        "from sklearn.metrics import precision_score, recall_score, f1_score\n",
        "from sklearn.model_selection import train_test_split\n",
        "\n",
        "# Load the breast cancer dataset\n",
        "data = load_breast_cancer()\n",
        "X = data.data\n",
        "y = data.target\n",
        "\n",
        "# Split the dataset into training and test sets\n",
        "X_train, X_test, y_train, y_test = train_test_split(X, y, test_size=0.2, random_state=42)\n",
        "\n",
        "# Initialize the Bagging Classifier (No need for base_estimator)\n",
        "bagging_classifier = BaggingClassifier(DecisionTreeClassifier(), n_estimators=50, random_state=42)\n",
        "\n",
        "# Train the Bagging Classifier\n",
        "bagging_classifier.fit(X_train, y_train)\n",
        "\n",
        "# Make predictions on the test set\n",
        "y_pred = bagging_classifier.predict(X_test)\n",
        "\n",
        "# Evaluate performance using Precision, Recall, and F1-score\n",
        "precision = precision_score(y_test, y_pred)\n",
        "recall = recall_score(y_test, y_pred)\n",
        "f1 = f1_score(y_test, y_pred)\n",
        "\n",
        "# Print the results\n",
        "print(\"Precision: \", precision)\n",
        "print(\"Recall: \", recall)\n",
        "print(\"F1-score: \", f1)\n"
      ],
      "metadata": {
        "colab": {
          "base_uri": "https://localhost:8080/"
        },
        "id": "n1sUrvQsJmGu",
        "outputId": "883f5bba-0f7b-41af-e937-e7baf743f585"
      },
      "execution_count": null,
      "outputs": [
        {
          "output_type": "stream",
          "name": "stdout",
          "text": [
            "Precision:  0.9583333333333334\n",
            "Recall:  0.971830985915493\n",
            "F1-score:  0.965034965034965\n"
          ]
        }
      ]
    },
    {
      "cell_type": "markdown",
      "source": [
        "**39.Train a Random Forest Classifier and analyze the effect of max_depth on accuracy.**"
      ],
      "metadata": {
        "id": "xs8mM3VyJr3e"
      }
    },
    {
      "cell_type": "code",
      "source": [
        "from sklearn.datasets import load_breast_cancer\n",
        "from sklearn.ensemble import RandomForestClassifier\n",
        "from sklearn.model_selection import train_test_split\n",
        "from sklearn.metrics import accuracy_score\n",
        "import matplotlib.pyplot as plt\n",
        "\n",
        "# Load the breast cancer dataset\n",
        "data = load_breast_cancer()\n",
        "X = data.data\n",
        "y = data.target\n",
        "\n",
        "# Split the dataset into training and test sets\n",
        "X_train, X_test, y_train, y_test = train_test_split(X, y, test_size=0.2, random_state=42)\n",
        "\n",
        "# List of max_depth values to evaluate\n",
        "max_depth_values = [1, 5, 10, 20, 50, None]\n",
        "\n",
        "# List to store accuracy scores for each max_depth\n",
        "accuracy_scores = []\n",
        "\n",
        "# Train Random Forest Classifiers with different max_depth values\n",
        "for max_depth in max_depth_values:\n",
        "    rf_classifier = RandomForestClassifier(max_depth=max_depth, random_state=42)\n",
        "    rf_classifier.fit(X_train, y_train)\n",
        "    y_pred = rf_classifier.predict(X_test)\n",
        "    accuracy = accuracy_score(y_test, y_pred)\n",
        "    accuracy_scores.append(accuracy)\n",
        "\n",
        "# Plot the accuracy scores as a function of max_depth\n",
        "plt.plot(max_depth_values, accuracy_scores, marker='o')\n",
        "plt.xlabel('max_depth')\n",
        "plt.ylabel('Accuracy')\n",
        "plt.title('Effect of max_depth on Random Forest Classifier Accuracy')\n",
        "plt.show()\n",
        "\n",
        "# Print accuracy scores for each max_depth\n",
        "for max_depth, accuracy in zip(max_depth_values, accuracy_scores):\n",
        "    print(f\"max_depth = {max_depth}: Accuracy = {accuracy:.4f}\")\n"
      ],
      "metadata": {
        "colab": {
          "base_uri": "https://localhost:8080/",
          "height": 576
        },
        "id": "3zxM2vjsJvoz",
        "outputId": "17c5319a-415f-4a19-d2ce-05fccef0a769"
      },
      "execution_count": null,
      "outputs": [
        {
          "output_type": "display_data",
          "data": {
            "text/plain": [
              "<Figure size 640x480 with 1 Axes>"
            ],
            "image/png": "[encoded data removed]"
          },
          "metadata": {}
        },
        {
          "output_type": "stream",
          "name": "stdout",
          "text": [
            "max_depth = 1: Accuracy = 0.9561\n",
            "max_depth = 5: Accuracy = 0.9649\n",
            "max_depth = 10: Accuracy = 0.9649\n",
            "max_depth = 20: Accuracy = 0.9649\n",
            "max_depth = 50: Accuracy = 0.9649\n",
            "max_depth = None: Accuracy = 0.9649\n"
          ]
        }
      ]
    },
    {
      "cell_type": "markdown",
      "source": [
        "**40.Train a Bagging Regressor using different base estimators (DecisionTree and KNeighbors) and compare performance.**"
      ],
      "metadata": {
        "id": "KJF_T3_DJ4KX"
      }
    },
    {
      "cell_type": "code",
      "source": [
        "from sklearn.ensemble import BaggingRegressor\n",
        "from sklearn.tree import DecisionTreeRegressor\n",
        "from sklearn.neighbors import KNeighborsRegressor\n",
        "from sklearn.metrics import mean_squared_error, r2_score\n",
        "from sklearn.model_selection import train_test_split\n",
        "from sklearn.impute import SimpleImputer\n",
        "from sklearn.pipeline import Pipeline\n",
        "from sklearn.compose import ColumnTransformer\n",
        "from sklearn.preprocessing import OneHotEncoder\n",
        "import matplotlib.pyplot as plt\n",
        "import pandas as pd\n",
        "from sklearn.datasets import fetch_openml\n",
        "\n",
        "# Load the Ames Housing dataset\n",
        "housing_ames = fetch_openml(name=\"house_prices\", as_frame=True)\n",
        "\n",
        "# Split the data into features (X) and target (y)\n",
        "X_ames = housing_ames.data\n",
        "y_ames = housing_ames.target\n",
        "\n",
        "# Handle categorical columns in Ames dataset\n",
        "categorical_columns = X_ames.select_dtypes(include=['object']).columns.tolist()\n",
        "\n",
        "# Create a ColumnTransformer for encoding categorical columns using OneHotEncoder\n",
        "preprocessor = ColumnTransformer(\n",
        "    transformers=[\n",
        "        ('cat', OneHotEncoder(handle_unknown='ignore'), categorical_columns)\n",
        "    ], remainder='passthrough')  # Keep the other columns as they are\n",
        "\n",
        "# Split the data into training and testing sets (80% train, 20% test)\n",
        "X_train_ames, X_test_ames, y_train_ames, y_test_ames = train_test_split(X_ames, y_ames, test_size=0.2, random_state=42)\n",
        "\n",
        "# Create a pipeline with preprocessing and imputation for missing values\n",
        "pipeline = Pipeline(steps=[\n",
        "    ('preprocessor', preprocessor),\n",
        "    ('imputer', SimpleImputer(strategy='mean'))  # Handle missing values by imputing with the mean\n",
        "])\n",
        "\n",
        "# Apply the pipeline to transform the data\n",
        "X_train_ames = pipeline.fit_transform(X_train_ames)\n",
        "X_test_ames = pipeline.transform(X_test_ames)\n",
        "\n",
        "# Initialize the Bagging Regressor with Decision Tree as base estimator\n",
        "bagging_tree = BaggingRegressor(DecisionTreeRegressor(), n_estimators=50, random_state=42)\n",
        "\n",
        "# Initialize the Bagging Regressor with KNeighbors as base estimator\n",
        "bagging_knn = BaggingRegressor(KNeighborsRegressor(), n_estimators=50, random_state=42)\n",
        "\n",
        "# Train both models\n",
        "bagging_tree.fit(X_train_ames, y_train_ames)\n",
        "bagging_knn.fit(X_train_ames, y_train_ames)\n",
        "\n",
        "# Predict on test data for both models\n",
        "y_pred_tree = bagging_tree.predict(X_test_ames)\n",
        "y_pred_knn = bagging_knn.predict(X_test_ames)\n",
        "\n",
        "# Evaluate the performance of both models using MSE and R2 score\n",
        "mse_tree = mean_squared_error(y_test_ames, y_pred_tree)\n",
        "r2_tree = r2_score(y_test_ames, y_pred_tree)\n",
        "\n",
        "mse_knn = mean_squared_error(y_test_ames, y_pred_knn)\n",
        "r2_knn = r2_score(y_test_ames, y_pred_knn)\n",
        "\n",
        "# Print the evaluation metrics for both models\n",
        "print(f\"Bagging Regressor with Decision Tree - MSE: {mse_tree:.2f}, R2: {r2_tree:.2f}\")\n",
        "print(f\"Bagging Regressor with KNeighbors - MSE: {mse_knn:.2f}, R2: {r2_knn:.2f}\")\n",
        "\n",
        "# Visualize the performance comparison\n",
        "models = ['Decision Tree', 'KNeighbors']\n",
        "mse_values = [mse_tree, mse_knn]\n",
        "r2_values = [r2_tree, r2_knn]\n",
        "\n",
        "plt.figure(figsize=(12, 6))\n",
        "\n",
        "# Plot MSE comparison\n",
        "plt.subplot(1, 2, 1)\n",
        "plt.bar(models, mse_values, color=['blue', 'green'])\n",
        "plt.title('Mean Squared Error (MSE) Comparison')\n",
        "plt.ylabel('MSE')\n",
        "\n",
        "# Plot R2 comparison\n",
        "plt.subplot(1, 2, 2)\n",
        "plt.bar(models, r2_values, color=['blue', 'green'])\n",
        "plt.title('R2 Score Comparison')\n",
        "plt.ylabel('R2')\n",
        "\n",
        "plt.tight_layout()\n",
        "plt.show()\n"
      ],
      "metadata": {
        "colab": {
          "base_uri": "https://localhost:8080/",
          "height": 642
        },
        "id": "6c_8unbALf43",
        "outputId": "12a90ad7-fecc-4012-989c-8f599918ac65"
      },
      "execution_count": null,
      "outputs": [
        {
          "output_type": "stream",
          "name": "stdout",
          "text": [
            "Bagging Regressor with Decision Tree - MSE: 917410260.45, R2: 0.88\n",
            "Bagging Regressor with KNeighbors - MSE: 2307105378.39, R2: 0.70\n"
          ]
        },
        {
          "output_type": "display_data",
          "data": {
            "text/plain": [
              "<Figure size 1200x600 with 2 Axes>"
            ],
            "image/png": "[encoded data removed]"
          },
          "metadata": {}
        }
      ]
    },
    {
      "cell_type": "markdown",
      "source": [
        "**41.Train a Random Forest Classifier and evaluate its performance using ROC-AUC Score.**"
      ],
      "metadata": {
        "id": "67TnZ6D5LlUW"
      }
    },
    {
      "cell_type": "code",
      "source": [
        "from sklearn.ensemble import RandomForestClassifier\n",
        "from sklearn.model_selection import train_test_split\n",
        "from sklearn.metrics import roc_auc_score, roc_curve\n",
        "from sklearn.datasets import load_iris\n",
        "import matplotlib.pyplot as plt\n",
        "\n",
        "# Load a sample dataset (Iris dataset for classification example)\n",
        "data = load_iris()\n",
        "X = data.data\n",
        "y = data.target\n",
        "\n",
        "# We will perform binary classification for ROC-AUC, so let's use only two classes\n",
        "X = X[y != 2]  # Remove class 2 (Iris-Virginica)\n",
        "y = y[y != 2]\n",
        "\n",
        "# Split the data into training and testing sets\n",
        "X_train, X_test, y_train, y_test = train_test_split(X, y, test_size=0.3, random_state=42)\n",
        "\n",
        "# Initialize the Random Forest Classifier\n",
        "rf_classifier = RandomForestClassifier(n_estimators=100, random_state=42)\n",
        "\n",
        "# Train the model\n",
        "rf_classifier.fit(X_train, y_train)\n",
        "\n",
        "# Predict probabilities for the positive class\n",
        "y_prob = rf_classifier.predict_proba(X_test)[:, 1]  # We take the probability for the positive class\n",
        "\n",
        "# Calculate the ROC-AUC score\n",
        "roc_auc = roc_auc_score(y_test, y_prob)\n",
        "\n",
        "# Print the ROC-AUC score\n",
        "print(f\"ROC-AUC Score: {roc_auc:.4f}\")\n",
        "\n",
        "# Plot the ROC curve\n",
        "fpr, tpr, thresholds = roc_curve(y_test, y_prob)\n",
        "\n",
        "plt.figure(figsize=(8, 6))\n",
        "plt.plot(fpr, tpr, color='blue', lw=2, label=f'ROC curve (area = {roc_auc:.4f})')\n",
        "plt.plot([0, 1], [0, 1], color='gray', linestyle='--', lw=2)  # Diagonal line (no discrimination)\n",
        "plt.xlabel('False Positive Rate')\n",
        "plt.ylabel('True Positive Rate')\n",
        "plt.title('Receiver Operating Characteristic (ROC) Curve')\n",
        "plt.legend(loc='lower right')\n",
        "plt.show()\n"
      ],
      "metadata": {
        "colab": {
          "base_uri": "https://localhost:8080/",
          "height": 581
        },
        "id": "pLCCC3iiLq8I",
        "outputId": "04b6a3f3-fa84-4001-b147-03fa18cceefe"
      },
      "execution_count": null,
      "outputs": [
        {
          "output_type": "stream",
          "name": "stdout",
          "text": [
            "ROC-AUC Score: 1.0000\n"
          ]
        },
        {
          "output_type": "display_data",
          "data": {
            "text/plain": [
              "<Figure size 800x600 with 1 Axes>"
            ],
            "image/png": "[encoded data removed]"
          },
          "metadata": {}
        }
      ]
    },
    {
      "cell_type": "markdown",
      "source": [
        "**42.Train a Bagging Classifier and evaluate its performance using cross-validation.**"
      ],
      "metadata": {
        "id": "drGifXzlL0S6"
      }
    },
    {
      "cell_type": "code",
      "source": [
        "from sklearn.ensemble import BaggingClassifier\n",
        "from sklearn.tree import DecisionTreeClassifier\n",
        "from sklearn.model_selection import cross_val_score\n",
        "from sklearn.datasets import load_iris\n",
        "import numpy as np\n",
        "\n",
        "# Load the Iris dataset (a classification task)\n",
        "data = load_iris()\n",
        "X = data.data\n",
        "y = data.target\n",
        "\n",
        "# Initialize the Bagging Classifier (it uses Decision Trees by default)\n",
        "bagging_classifier = BaggingClassifier(n_estimators=50, random_state=42)\n",
        "\n",
        "# Evaluate the model using cross-validation (5-fold cross-validation)\n",
        "cv_scores = cross_val_score(bagging_classifier, X, y, cv=5, scoring='accuracy')\n",
        "\n",
        "# Print the cross-validation scores\n",
        "print(f\"Cross-validation scores: {cv_scores}\")\n",
        "print(f\"Mean cross-validation score: {np.mean(cv_scores):.4f}\")\n",
        "print(f\"Standard deviation of cross-validation scores: {np.std(cv_scores):.4f}\")\n"
      ],
      "metadata": {
        "colab": {
          "base_uri": "https://localhost:8080/"
        },
        "id": "HsldzZnzMI4N",
        "outputId": "2874722b-93fa-433a-af93-ab353789f209"
      },
      "execution_count": null,
      "outputs": [
        {
          "output_type": "stream",
          "name": "stdout",
          "text": [
            "Cross-validation scores: [0.96666667 0.96666667 0.93333333 0.96666667 1.        ]\n",
            "Mean cross-validation score: 0.9667\n",
            "Standard deviation of cross-validation scores: 0.0211\n"
          ]
        }
      ]
    },
    {
      "cell_type": "markdown",
      "source": [
        "**43.Train a Random Forest Classifier and plot the Precision-Recall curve.**"
      ],
      "metadata": {
        "id": "VABHvyaKMLdB"
      }
    },
    {
      "cell_type": "code",
      "source": [
        "import numpy as np\n",
        "import matplotlib.pyplot as plt\n",
        "from sklearn.ensemble import RandomForestClassifier\n",
        "from sklearn.datasets import load_iris\n",
        "from sklearn.model_selection import train_test_split\n",
        "from sklearn.metrics import precision_recall_curve, average_precision_score\n",
        "\n",
        "# Load the Iris dataset\n",
        "data = load_iris()\n",
        "X = data.data\n",
        "y = data.target\n",
        "\n",
        "# Since we are dealing with a multiclass classification problem, let's use only one class vs the rest.\n",
        "# Here, we'll take class '1' as the positive class and combine the rest as negative.\n",
        "y_binary = (y == 1).astype(int)\n",
        "\n",
        "# Split the dataset into training and testing sets\n",
        "X_train, X_test, y_train, y_test = train_test_split(X, y_binary, test_size=0.3, random_state=42)\n",
        "\n",
        "# Train Random Forest Classifier\n",
        "rf_classifier = RandomForestClassifier(n_estimators=100, random_state=42)\n",
        "rf_classifier.fit(X_train, y_train)\n",
        "\n",
        "# Predict probabilities for the positive class\n",
        "y_probs = rf_classifier.predict_proba(X_test)[:, 1]\n",
        "\n",
        "# Compute Precision-Recall curve\n",
        "precision, recall, _ = precision_recall_curve(y_test, y_probs)\n",
        "\n",
        "# Plot Precision-Recall curve\n",
        "plt.figure(figsize=(8, 6))\n",
        "plt.plot(recall, precision, color='b', label=f'Random Forest (AP={average_precision_score(y_test, y_probs):.2f})')\n",
        "plt.xlabel('Recall')\n",
        "plt.ylabel('Precision')\n",
        "plt.title('Precision-Recall Curve')\n",
        "plt.legend(loc='best')\n",
        "plt.grid(True)\n",
        "plt.show()\n"
      ],
      "metadata": {
        "colab": {
          "base_uri": "https://localhost:8080/",
          "height": 564
        },
        "id": "eW8MAMJrMRET",
        "outputId": "234a5dc3-2d36-41cb-dda4-1b676aa5289f"
      },
      "execution_count": null,
      "outputs": [
        {
          "output_type": "display_data",
          "data": {
            "text/plain": [
              "<Figure size 800x600 with 1 Axes>"
            ],
            "image/png": "[encoded data removed]"
          },
          "metadata": {}
        }
      ]
    },
    {
      "cell_type": "markdown",
      "source": [
        "**44.Train a Stacking Classifier with Random Forest and Logistic Regression and compare accuracy.**"
      ],
      "metadata": {
        "id": "gXKsgSJkMZKx"
      }
    },
    {
      "cell_type": "code",
      "source": [
        "import numpy as np\n",
        "from sklearn.datasets import load_iris\n",
        "from sklearn.model_selection import train_test_split\n",
        "from sklearn.ensemble import RandomForestClassifier, StackingClassifier\n",
        "from sklearn.linear_model import LogisticRegression\n",
        "from sklearn.metrics import accuracy_score\n",
        "\n",
        "# Load the Iris dataset\n",
        "data = load_iris()\n",
        "X = data.data\n",
        "y = data.target\n",
        "\n",
        "# Split the dataset into training and testing sets\n",
        "X_train, X_test, y_train, y_test = train_test_split(X, y, test_size=0.3, random_state=42)\n",
        "\n",
        "# Initialize base learners\n",
        "rf_classifier = RandomForestClassifier(n_estimators=100, random_state=42)\n",
        "logreg_classifier = LogisticRegression(max_iter=200, random_state=42)\n",
        "\n",
        "# Initialize the Stacking Classifier with Random Forest and Logistic Regression\n",
        "stacking_classifier = StackingClassifier(\n",
        "    estimators=[('rf', rf_classifier), ('logreg', logreg_classifier)],\n",
        "    final_estimator=LogisticRegression()\n",
        ")\n",
        "\n",
        "# Train the Stacking Classifier\n",
        "stacking_classifier.fit(X_train, y_train)\n",
        "\n",
        "# Predict on test data\n",
        "y_pred = stacking_classifier.predict(X_test)\n",
        "\n",
        "# Calculate the accuracy\n",
        "accuracy = accuracy_score(y_test, y_pred)\n",
        "\n",
        "print(f\"Accuracy of the Stacking Classifier: {accuracy:.4f}\")\n",
        "\n",
        "# Now, let's compare with Random Forest alone\n",
        "rf_classifier.fit(X_train, y_train)\n",
        "rf_pred = rf_classifier.predict(X_test)\n",
        "rf_accuracy = accuracy_score(y_test, rf_pred)\n",
        "\n",
        "print(f\"Accuracy of Random Forest Classifier: {rf_accuracy:.4f}\")\n",
        "\n",
        "# Compare the accuracy of Stacking Classifier with Random Forest\n",
        "if accuracy > rf_accuracy:\n",
        "    print(\"Stacking Classifier outperforms Random Forest!\")\n",
        "else:\n",
        "    print(\"Random Forest outperforms Stacking Classifier!\")\n"
      ],
      "metadata": {
        "colab": {
          "base_uri": "https://localhost:8080/"
        },
        "id": "tImJULWbMc_K",
        "outputId": "876c880e-92e8-40e0-ece1-19df07559c65"
      },
      "execution_count": null,
      "outputs": [
        {
          "output_type": "stream",
          "name": "stdout",
          "text": [
            "Accuracy of the Stacking Classifier: 1.0000\n",
            "Accuracy of Random Forest Classifier: 1.0000\n",
            "Random Forest outperforms Stacking Classifier!\n"
          ]
        }
      ]
    },
    {
      "cell_type": "markdown",
      "source": [
        "**45.Train a Bagging Regressor with different levels of bootstrap samples and compare performance.**"
      ],
      "metadata": {
        "id": "9JUlAfsIMmXh"
      }
    },
    {
      "cell_type": "code",
      "source": [
        "import numpy as np\n",
        "from sklearn.datasets import make_regression\n",
        "from sklearn.model_selection import train_test_split\n",
        "from sklearn.ensemble import BaggingRegressor\n",
        "from sklearn.tree import DecisionTreeRegressor\n",
        "from sklearn.metrics import mean_squared_error\n",
        "import matplotlib.pyplot as plt\n",
        "\n",
        "# Generate a synthetic regression dataset\n",
        "X, y = make_regression(n_samples=1000, n_features=10, noise=0.1, random_state=42)\n",
        "\n",
        "# Split the dataset into training and testing sets\n",
        "X_train, X_test, y_train, y_test = train_test_split(X, y, test_size=0.3, random_state=42)\n",
        "\n",
        "# Initialize the base estimator (Decision Tree Regressor)\n",
        "base_estimator = DecisionTreeRegressor(random_state=42)\n",
        "\n",
        "# Define different levels of bootstrap samples\n",
        "bootstrap_samples = [0.5, 0.7, 1.0]\n",
        "\n",
        "# Store the performance results\n",
        "results = {}\n",
        "\n",
        "# Train and evaluate Bagging Regressor with different bootstrap sample sizes\n",
        "for bootstrap in bootstrap_samples:\n",
        "    # Initialize the Bagging Regressor with the current bootstrap sample size\n",
        "    bagging_regressor = BaggingRegressor(estimator=base_estimator,\n",
        "                                        n_estimators=50,\n",
        "                                        bootstrap=True,\n",
        "                                        max_samples=bootstrap,\n",
        "                                        random_state=42)\n",
        "\n",
        "    # Train the model\n",
        "    bagging_regressor.fit(X_train, y_train)\n",
        "\n",
        "    # Predict on the test set\n",
        "    y_pred = bagging_regressor.predict(X_test)\n",
        "\n",
        "    # Calculate Mean Squared Error (MSE)\n",
        "    mse = mean_squared_error(y_test, y_pred)\n",
        "    results[bootstrap] = mse\n",
        "\n",
        "# Plotting the results\n",
        "plt.figure(figsize=(8, 6))\n",
        "plt.plot(bootstrap_samples, [results[bootstrap] for bootstrap in bootstrap_samples], marker='o')\n",
        "plt.title(\"Bagging Regressor Performance with Different Bootstrap Sample Sizes\")\n",
        "plt.xlabel(\"Fraction of Bootstrap Samples\")\n",
        "plt.ylabel(\"Mean Squared Error (MSE)\")\n",
        "plt.grid(True)\n",
        "plt.show()\n",
        "\n",
        "# Print out the results\n",
        "for bootstrap in bootstrap_samples:\n",
        "    print(f\"Bootstrap Sample: {bootstrap}, MSE: {results[bootstrap]:.4f}\")\n"
      ],
      "metadata": {
        "colab": {
          "base_uri": "https://localhost:8080/",
          "height": 616
        },
        "id": "upAqSGeWM9pM",
        "outputId": "f87c1a56-28b4-4a4e-c7d9-477b2f108c4d"
      },
      "execution_count": null,
      "outputs": [
        {
          "output_type": "display_data",
          "data": {
            "text/plain": [
              "<Figure size 800x600 with 1 Axes>"
            ],
            "image/png": "[encoded data removed]"
          },
          "metadata": {}
        },
        {
          "output_type": "stream",
          "name": "stdout",
          "text": [
            "Bootstrap Sample: 0.5, MSE: 3075.0315\n",
            "Bootstrap Sample: 0.7, MSE: 3127.2485\n",
            "Bootstrap Sample: 1.0, MSE: 2862.7045\n"
          ]
        }
      ]
    }
  ]
}